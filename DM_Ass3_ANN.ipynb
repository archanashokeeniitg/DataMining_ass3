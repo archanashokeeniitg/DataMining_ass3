{
  "nbformat": 4,
  "nbformat_minor": 5,
  "metadata": {
    "kernelspec": {
      "display_name": "Python 3 (ipykernel)",
      "language": "python",
      "name": "python3"
    },
    "language_info": {
      "codemirror_mode": {
        "name": "ipython",
        "version": 3
      },
      "file_extension": ".py",
      "mimetype": "text/x-python",
      "name": "python",
      "nbconvert_exporter": "python",
      "pygments_lexer": "ipython3",
      "version": "3.8.12"
    },
    "colab": {
      "name": "DM_Ass3_ANN.ipynb",
      "provenance": [],
      "collapsed_sections": [],
      "toc_visible": true,
      "include_colab_link": true
    }
  },
  "cells": [
    {
      "cell_type": "markdown",
      "metadata": {
        "id": "view-in-github",
        "colab_type": "text"
      },
      "source": [
        "<a href=\"https://colab.research.google.com/github/archanashokeeniitg/DataMining_ass3/blob/main/DM_Ass3_ANN.ipynb\" target=\"_parent\"><img src=\"https://colab.research.google.com/assets/colab-badge.svg\" alt=\"Open In Colab\"/></a>"
      ]
    },
    {
      "cell_type": "markdown",
      "metadata": {
        "id": "ggOBBSsp56QW"
      },
      "source": [
        "# Assignment-3\n",
        "\n",
        "FA21: CMPE-255 Sec 48 - Machine Learning\n",
        "\n",
        "Archana Shokeen (015237378)\n",
        "\n",
        "San Jose State University\n",
        "\n",
        "## Dataset\n",
        "Data Set used - https://www.kaggle.com/achintyatripathi/content-based-news-recomender-system/data\n",
        "\n",
        "\n",
        "## Data Narrative\n",
        "\n",
        "This is an open source data set provided by Kaggle.\n",
        "This is a News Dataset that has articles related to 'India,\"World News\",'Sports\",\"Education\". It covers the various attributes like liks, articles, text, summary, keywords etc."
      ],
      "id": "ggOBBSsp56QW"
    },
    {
      "cell_type": "markdown",
      "metadata": {
        "id": "pCCzBTH39vZT"
      },
      "source": [
        "# Abstract-Results\n",
        "\n",
        "\n",
        "\n",
        "\n",
        "\n",
        "\n",
        "| Technique  |Library| Wall Time|\n",
        "| ------------- |-----| ------------- |\n",
        "| Locality-sensitive hashing| faiss.IndexLSH| 154 ms  |\n",
        "| Exhaustive Search|faiss.IndexFlatL2 | 96.4 ms  |\n",
        "|Product Quantization|faiss.IndexPQ|8min 82s|\n",
        "|Trees and Graphs|AnnoyIndex|3.57 s|\n",
        "|HNSW|nmslib.init|2min 5s|\n",
        "\n",
        "\n"
      ],
      "id": "pCCzBTH39vZT"
    },
    {
      "cell_type": "code",
      "metadata": {
        "colab": {
          "base_uri": "https://localhost:8080/"
        },
        "id": "HPcNwmuWutSY",
        "outputId": "854868b2-89b4-4ade-fc3a-195930b5b0f0"
      },
      "source": [
        "!pip install texthero"
      ],
      "id": "HPcNwmuWutSY",
      "execution_count": 2,
      "outputs": [
        {
          "output_type": "stream",
          "name": "stdout",
          "text": [
            "Collecting texthero\n",
            "  Downloading texthero-1.1.0-py3-none-any.whl (24 kB)\n",
            "Requirement already satisfied: scikit-learn>=0.22 in /usr/local/lib/python3.7/dist-packages (from texthero) (1.0.1)\n",
            "Collecting nltk>=3.3\n",
            "  Downloading nltk-3.6.5-py3-none-any.whl (1.5 MB)\n",
            "\u001b[K     |████████████████████████████████| 1.5 MB 7.5 MB/s \n",
            "\u001b[?25hRequirement already satisfied: gensim<4.0,>=3.6.0 in /usr/local/lib/python3.7/dist-packages (from texthero) (3.6.0)\n",
            "Requirement already satisfied: wordcloud>=1.5.0 in /usr/local/lib/python3.7/dist-packages (from texthero) (1.5.0)\n",
            "Requirement already satisfied: spacy<3.0.0 in /usr/local/lib/python3.7/dist-packages (from texthero) (2.2.4)\n",
            "Requirement already satisfied: numpy>=1.17 in /usr/local/lib/python3.7/dist-packages (from texthero) (1.19.5)\n",
            "Collecting unidecode>=1.1.1\n",
            "  Downloading Unidecode-1.3.2-py3-none-any.whl (235 kB)\n",
            "\u001b[K     |████████████████████████████████| 235 kB 64.2 MB/s \n",
            "\u001b[?25hRequirement already satisfied: tqdm>=4.3 in /usr/local/lib/python3.7/dist-packages (from texthero) (4.62.3)\n",
            "Requirement already satisfied: pandas>=1.0.2 in /usr/local/lib/python3.7/dist-packages (from texthero) (1.1.5)\n",
            "Requirement already satisfied: plotly>=4.2.0 in /usr/local/lib/python3.7/dist-packages (from texthero) (4.4.1)\n",
            "Requirement already satisfied: matplotlib>=3.1.0 in /usr/local/lib/python3.7/dist-packages (from texthero) (3.2.2)\n",
            "Requirement already satisfied: smart-open>=1.2.1 in /usr/local/lib/python3.7/dist-packages (from gensim<4.0,>=3.6.0->texthero) (5.2.1)\n",
            "Requirement already satisfied: scipy>=0.18.1 in /usr/local/lib/python3.7/dist-packages (from gensim<4.0,>=3.6.0->texthero) (1.4.1)\n",
            "Requirement already satisfied: six>=1.5.0 in /usr/local/lib/python3.7/dist-packages (from gensim<4.0,>=3.6.0->texthero) (1.15.0)\n",
            "Requirement already satisfied: pyparsing!=2.0.4,!=2.1.2,!=2.1.6,>=2.0.1 in /usr/local/lib/python3.7/dist-packages (from matplotlib>=3.1.0->texthero) (3.0.6)\n",
            "Requirement already satisfied: kiwisolver>=1.0.1 in /usr/local/lib/python3.7/dist-packages (from matplotlib>=3.1.0->texthero) (1.3.2)\n",
            "Requirement already satisfied: python-dateutil>=2.1 in /usr/local/lib/python3.7/dist-packages (from matplotlib>=3.1.0->texthero) (2.8.2)\n",
            "Requirement already satisfied: cycler>=0.10 in /usr/local/lib/python3.7/dist-packages (from matplotlib>=3.1.0->texthero) (0.11.0)\n",
            "Requirement already satisfied: click in /usr/local/lib/python3.7/dist-packages (from nltk>=3.3->texthero) (7.1.2)\n",
            "Requirement already satisfied: joblib in /usr/local/lib/python3.7/dist-packages (from nltk>=3.3->texthero) (1.1.0)\n",
            "Collecting regex>=2021.8.3\n",
            "  Downloading regex-2021.11.10-cp37-cp37m-manylinux_2_17_x86_64.manylinux2014_x86_64.whl (749 kB)\n",
            "\u001b[K     |████████████████████████████████| 749 kB 54.0 MB/s \n",
            "\u001b[?25hRequirement already satisfied: pytz>=2017.2 in /usr/local/lib/python3.7/dist-packages (from pandas>=1.0.2->texthero) (2018.9)\n",
            "Requirement already satisfied: retrying>=1.3.3 in /usr/local/lib/python3.7/dist-packages (from plotly>=4.2.0->texthero) (1.3.3)\n",
            "Requirement already satisfied: threadpoolctl>=2.0.0 in /usr/local/lib/python3.7/dist-packages (from scikit-learn>=0.22->texthero) (3.0.0)\n",
            "Requirement already satisfied: catalogue<1.1.0,>=0.0.7 in /usr/local/lib/python3.7/dist-packages (from spacy<3.0.0->texthero) (1.0.0)\n",
            "Requirement already satisfied: srsly<1.1.0,>=1.0.2 in /usr/local/lib/python3.7/dist-packages (from spacy<3.0.0->texthero) (1.0.5)\n",
            "Requirement already satisfied: cymem<2.1.0,>=2.0.2 in /usr/local/lib/python3.7/dist-packages (from spacy<3.0.0->texthero) (2.0.6)\n",
            "Requirement already satisfied: murmurhash<1.1.0,>=0.28.0 in /usr/local/lib/python3.7/dist-packages (from spacy<3.0.0->texthero) (1.0.6)\n",
            "Requirement already satisfied: thinc==7.4.0 in /usr/local/lib/python3.7/dist-packages (from spacy<3.0.0->texthero) (7.4.0)\n",
            "Requirement already satisfied: blis<0.5.0,>=0.4.0 in /usr/local/lib/python3.7/dist-packages (from spacy<3.0.0->texthero) (0.4.1)\n",
            "Requirement already satisfied: requests<3.0.0,>=2.13.0 in /usr/local/lib/python3.7/dist-packages (from spacy<3.0.0->texthero) (2.23.0)\n",
            "Requirement already satisfied: plac<1.2.0,>=0.9.6 in /usr/local/lib/python3.7/dist-packages (from spacy<3.0.0->texthero) (1.1.3)\n",
            "Requirement already satisfied: wasabi<1.1.0,>=0.4.0 in /usr/local/lib/python3.7/dist-packages (from spacy<3.0.0->texthero) (0.8.2)\n",
            "Requirement already satisfied: setuptools in /usr/local/lib/python3.7/dist-packages (from spacy<3.0.0->texthero) (57.4.0)\n",
            "Requirement already satisfied: preshed<3.1.0,>=3.0.2 in /usr/local/lib/python3.7/dist-packages (from spacy<3.0.0->texthero) (3.0.6)\n",
            "Requirement already satisfied: importlib-metadata>=0.20 in /usr/local/lib/python3.7/dist-packages (from catalogue<1.1.0,>=0.0.7->spacy<3.0.0->texthero) (4.8.2)\n",
            "Requirement already satisfied: zipp>=0.5 in /usr/local/lib/python3.7/dist-packages (from importlib-metadata>=0.20->catalogue<1.1.0,>=0.0.7->spacy<3.0.0->texthero) (3.6.0)\n",
            "Requirement already satisfied: typing-extensions>=3.6.4 in /usr/local/lib/python3.7/dist-packages (from importlib-metadata>=0.20->catalogue<1.1.0,>=0.0.7->spacy<3.0.0->texthero) (3.10.0.2)\n",
            "Requirement already satisfied: urllib3!=1.25.0,!=1.25.1,<1.26,>=1.21.1 in /usr/local/lib/python3.7/dist-packages (from requests<3.0.0,>=2.13.0->spacy<3.0.0->texthero) (1.24.3)\n",
            "Requirement already satisfied: idna<3,>=2.5 in /usr/local/lib/python3.7/dist-packages (from requests<3.0.0,>=2.13.0->spacy<3.0.0->texthero) (2.10)\n",
            "Requirement already satisfied: chardet<4,>=3.0.2 in /usr/local/lib/python3.7/dist-packages (from requests<3.0.0,>=2.13.0->spacy<3.0.0->texthero) (3.0.4)\n",
            "Requirement already satisfied: certifi>=2017.4.17 in /usr/local/lib/python3.7/dist-packages (from requests<3.0.0,>=2.13.0->spacy<3.0.0->texthero) (2021.10.8)\n",
            "Requirement already satisfied: pillow in /usr/local/lib/python3.7/dist-packages (from wordcloud>=1.5.0->texthero) (7.1.2)\n",
            "Installing collected packages: regex, unidecode, nltk, texthero\n",
            "  Attempting uninstall: regex\n",
            "    Found existing installation: regex 2019.12.20\n",
            "    Uninstalling regex-2019.12.20:\n",
            "      Successfully uninstalled regex-2019.12.20\n",
            "  Attempting uninstall: nltk\n",
            "    Found existing installation: nltk 3.2.5\n",
            "    Uninstalling nltk-3.2.5:\n",
            "      Successfully uninstalled nltk-3.2.5\n",
            "Successfully installed nltk-3.6.5 regex-2021.11.10 texthero-1.1.0 unidecode-1.3.2\n"
          ]
        }
      ]
    },
    {
      "cell_type": "code",
      "metadata": {
        "id": "0e31337d-442f-4adc-ba38-10f844a36728",
        "colab": {
          "base_uri": "https://localhost:8080/"
        },
        "outputId": "ac25ba64-eb0e-434f-c5e8-3d665756b2c0"
      },
      "source": [
        "import pandas as pd\n",
        "import numpy as np\n",
        "import re\n",
        "\n",
        "import texthero as hero\n",
        "from texthero import preprocessing"
      ],
      "id": "0e31337d-442f-4adc-ba38-10f844a36728",
      "execution_count": 3,
      "outputs": [
        {
          "output_type": "stream",
          "name": "stderr",
          "text": [
            "[nltk_data] Downloading package stopwords to /root/nltk_data...\n",
            "[nltk_data]   Unzipping corpora/stopwords.zip.\n"
          ]
        }
      ]
    },
    {
      "cell_type": "markdown",
      "metadata": {
        "id": "q26djkQESImQ"
      },
      "source": [
        "#**Data Loading**"
      ],
      "id": "q26djkQESImQ"
    },
    {
      "cell_type": "code",
      "metadata": {
        "colab": {
          "base_uri": "https://localhost:8080/",
          "height": 734
        },
        "id": "_ZkuTilIvC7O",
        "outputId": "e47cfc59-b144-4f73-fa81-3beb4ed54d2e"
      },
      "source": [
        "from google.colab import drive\n",
        "drive.mount(\"/content/gdrive\")\n",
        "\n",
        "df = pd.read_csv('/content/gdrive/My Drive/Colab Notebooks/Dataset/DM/result_final.csv')\n",
        "df.head(5)"
      ],
      "id": "_ZkuTilIvC7O",
      "execution_count": 4,
      "outputs": [
        {
          "output_type": "stream",
          "name": "stdout",
          "text": [
            "Mounted at /content/gdrive\n"
          ]
        },
        {
          "output_type": "execute_result",
          "data": {
            "text/html": [
              "<div>\n",
              "<style scoped>\n",
              "    .dataframe tbody tr th:only-of-type {\n",
              "        vertical-align: middle;\n",
              "    }\n",
              "\n",
              "    .dataframe tbody tr th {\n",
              "        vertical-align: top;\n",
              "    }\n",
              "\n",
              "    .dataframe thead th {\n",
              "        text-align: right;\n",
              "    }\n",
              "</style>\n",
              "<table border=\"1\" class=\"dataframe\">\n",
              "  <thead>\n",
              "    <tr style=\"text-align: right;\">\n",
              "      <th></th>\n",
              "      <th>Unnamed: 0</th>\n",
              "      <th>Unnamed: 0.1</th>\n",
              "      <th>link</th>\n",
              "      <th>text</th>\n",
              "      <th>title</th>\n",
              "      <th>date</th>\n",
              "      <th>keywords</th>\n",
              "      <th>summary</th>\n",
              "      <th>title_summary</th>\n",
              "    </tr>\n",
              "  </thead>\n",
              "  <tbody>\n",
              "    <tr>\n",
              "      <th>0</th>\n",
              "      <td>0</td>\n",
              "      <td>0</td>\n",
              "      <td>http://techcrunch.com/2020/09/07/vodafone-idea...</td>\n",
              "      <td>Vodafone Idea, one of the largest telecom oper...</td>\n",
              "      <td>Indian telecom giant Vodafone Idea rebrands as...</td>\n",
              "      <td>2020-09-07 00:00:00</td>\n",
              "      <td>['rebrands', 'idea', 'vi', 'giant', 'brand', '...</td>\n",
              "      <td>Vodafone Idea, one of the largest telecom oper...</td>\n",
              "      <td>Indian telecom giant Vodafone Idea rebrands as...</td>\n",
              "    </tr>\n",
              "    <tr>\n",
              "      <th>1</th>\n",
              "      <td>1</td>\n",
              "      <td>1</td>\n",
              "      <td>http://techcrunch.com/2020/09/16/facebook-addr...</td>\n",
              "      <td>At the beginning of the previous decade, Faceb...</td>\n",
              "      <td>Facebook addresses political controversy in In...</td>\n",
              "      <td>2020-09-16 00:00:00</td>\n",
              "      <td>['opportunities', 'whatsapp', 'controversy', '...</td>\n",
              "      <td>Politicians in the country today heavily rely ...</td>\n",
              "      <td>Facebook addresses political controversy in In...</td>\n",
              "    </tr>\n",
              "    <tr>\n",
              "      <th>2</th>\n",
              "      <td>2</td>\n",
              "      <td>2</td>\n",
              "      <td>http://techcrunch.com/2020/09/14/youtube-launc...</td>\n",
              "      <td>As TikTok’s fate in the U.S. remains murky, Yo...</td>\n",
              "      <td>YouTube launches its TikTok rival, YouTube Sho...</td>\n",
              "      <td>2020-09-14 00:00:00</td>\n",
              "      <td>['rival', 'video', 'feature', 'access', 'youtu...</td>\n",
              "      <td>As TikTok’s fate in the U.S. remains murky, Yo...</td>\n",
              "      <td>YouTube launches its TikTok rival, YouTube Sho...</td>\n",
              "    </tr>\n",
              "    <tr>\n",
              "      <th>3</th>\n",
              "      <td>3</td>\n",
              "      <td>3</td>\n",
              "      <td>http://techcrunch.com/2020/09/09/groww-an-inve...</td>\n",
              "      <td>Even as more than 150 million people are using...</td>\n",
              "      <td>Groww, an investment app for millennials in In...</td>\n",
              "      <td>2020-09-09 00:00:00</td>\n",
              "      <td>['world', 'yc', 'continuity', 'stocks', 'groww...</td>\n",
              "      <td>YC Continuity, the growth-stage investment fun...</td>\n",
              "      <td>Groww, an investment app for millennials in In...</td>\n",
              "    </tr>\n",
              "    <tr>\n",
              "      <th>4</th>\n",
              "      <td>4</td>\n",
              "      <td>4</td>\n",
              "      <td>http://techcrunch.com/2020/09/15/lanzatech-is-...</td>\n",
              "      <td>As part of the continuing global rollout of La...</td>\n",
              "      <td>LanzaTech is developing a small-scale waste bi...</td>\n",
              "      <td>2020-09-15 00:00:00</td>\n",
              "      <td>['production', 'distributed', 'developing', 's...</td>\n",
              "      <td>As part of the continuing global rollout of La...</td>\n",
              "      <td>LanzaTech is developing a small-scale waste bi...</td>\n",
              "    </tr>\n",
              "  </tbody>\n",
              "</table>\n",
              "</div>"
            ],
            "text/plain": [
              "   Unnamed: 0  ...                                      title_summary\n",
              "0           0  ...  Indian telecom giant Vodafone Idea rebrands as...\n",
              "1           1  ...  Facebook addresses political controversy in In...\n",
              "2           2  ...  YouTube launches its TikTok rival, YouTube Sho...\n",
              "3           3  ...  Groww, an investment app for millennials in In...\n",
              "4           4  ...  LanzaTech is developing a small-scale waste bi...\n",
              "\n",
              "[5 rows x 9 columns]"
            ]
          },
          "metadata": {},
          "execution_count": 4
        }
      ]
    },
    {
      "cell_type": "code",
      "metadata": {
        "id": "467e28a2-5d73-4467-a235-9bce78ef2e78",
        "colab": {
          "base_uri": "https://localhost:8080/",
          "height": 448
        },
        "outputId": "e3cf5d79-1129-4279-c0d5-d84ec2adfd89"
      },
      "source": [
        "dataset = df\n",
        "dataset.head(3)"
      ],
      "id": "467e28a2-5d73-4467-a235-9bce78ef2e78",
      "execution_count": 6,
      "outputs": [
        {
          "output_type": "execute_result",
          "data": {
            "text/html": [
              "<div>\n",
              "<style scoped>\n",
              "    .dataframe tbody tr th:only-of-type {\n",
              "        vertical-align: middle;\n",
              "    }\n",
              "\n",
              "    .dataframe tbody tr th {\n",
              "        vertical-align: top;\n",
              "    }\n",
              "\n",
              "    .dataframe thead th {\n",
              "        text-align: right;\n",
              "    }\n",
              "</style>\n",
              "<table border=\"1\" class=\"dataframe\">\n",
              "  <thead>\n",
              "    <tr style=\"text-align: right;\">\n",
              "      <th></th>\n",
              "      <th>Unnamed: 0</th>\n",
              "      <th>Unnamed: 0.1</th>\n",
              "      <th>link</th>\n",
              "      <th>text</th>\n",
              "      <th>title</th>\n",
              "      <th>date</th>\n",
              "      <th>keywords</th>\n",
              "      <th>summary</th>\n",
              "      <th>title_summary</th>\n",
              "    </tr>\n",
              "  </thead>\n",
              "  <tbody>\n",
              "    <tr>\n",
              "      <th>0</th>\n",
              "      <td>0</td>\n",
              "      <td>0</td>\n",
              "      <td>http://techcrunch.com/2020/09/07/vodafone-idea...</td>\n",
              "      <td>Vodafone Idea, one of the largest telecom oper...</td>\n",
              "      <td>Indian telecom giant Vodafone Idea rebrands as...</td>\n",
              "      <td>2020-09-07 00:00:00</td>\n",
              "      <td>['rebrands', 'idea', 'vi', 'giant', 'brand', '...</td>\n",
              "      <td>Vodafone Idea, one of the largest telecom oper...</td>\n",
              "      <td>Indian telecom giant Vodafone Idea rebrands as...</td>\n",
              "    </tr>\n",
              "    <tr>\n",
              "      <th>1</th>\n",
              "      <td>1</td>\n",
              "      <td>1</td>\n",
              "      <td>http://techcrunch.com/2020/09/16/facebook-addr...</td>\n",
              "      <td>At the beginning of the previous decade, Faceb...</td>\n",
              "      <td>Facebook addresses political controversy in In...</td>\n",
              "      <td>2020-09-16 00:00:00</td>\n",
              "      <td>['opportunities', 'whatsapp', 'controversy', '...</td>\n",
              "      <td>Politicians in the country today heavily rely ...</td>\n",
              "      <td>Facebook addresses political controversy in In...</td>\n",
              "    </tr>\n",
              "    <tr>\n",
              "      <th>2</th>\n",
              "      <td>2</td>\n",
              "      <td>2</td>\n",
              "      <td>http://techcrunch.com/2020/09/14/youtube-launc...</td>\n",
              "      <td>As TikTok’s fate in the U.S. remains murky, Yo...</td>\n",
              "      <td>YouTube launches its TikTok rival, YouTube Sho...</td>\n",
              "      <td>2020-09-14 00:00:00</td>\n",
              "      <td>['rival', 'video', 'feature', 'access', 'youtu...</td>\n",
              "      <td>As TikTok’s fate in the U.S. remains murky, Yo...</td>\n",
              "      <td>YouTube launches its TikTok rival, YouTube Sho...</td>\n",
              "    </tr>\n",
              "  </tbody>\n",
              "</table>\n",
              "</div>"
            ],
            "text/plain": [
              "   Unnamed: 0  ...                                      title_summary\n",
              "0           0  ...  Indian telecom giant Vodafone Idea rebrands as...\n",
              "1           1  ...  Facebook addresses political controversy in In...\n",
              "2           2  ...  YouTube launches its TikTok rival, YouTube Sho...\n",
              "\n",
              "[3 rows x 9 columns]"
            ]
          },
          "metadata": {},
          "execution_count": 6
        }
      ]
    },
    {
      "cell_type": "markdown",
      "metadata": {
        "id": "lypxIXnJ7Jmp"
      },
      "source": [
        "# Data Wrangling"
      ],
      "id": "lypxIXnJ7Jmp"
    },
    {
      "cell_type": "code",
      "metadata": {
        "colab": {
          "base_uri": "https://localhost:8080/"
        },
        "id": "kFHqRxEv1QBV",
        "outputId": "7d601bf0-f68b-4b0b-ecaa-ffa9a1d3fc5c"
      },
      "source": [
        "df.columns"
      ],
      "id": "kFHqRxEv1QBV",
      "execution_count": 33,
      "outputs": [
        {
          "output_type": "execute_result",
          "data": {
            "text/plain": [
              "Index(['Unnamed: 0', 'Unnamed: 0.1', 'link', 'text', 'title', 'date',\n",
              "       'keywords', 'summary', 'title_summary'],\n",
              "      dtype='object')"
            ]
          },
          "metadata": {},
          "execution_count": 33
        }
      ]
    },
    {
      "cell_type": "code",
      "metadata": {
        "colab": {
          "base_uri": "https://localhost:8080/"
        },
        "id": "ZDxvGn-u7zs7",
        "outputId": "5de0093c-e8e2-4dcc-ad34-fe2a371e97d5"
      },
      "source": [
        "df.isnull().sum()"
      ],
      "id": "ZDxvGn-u7zs7",
      "execution_count": 65,
      "outputs": [
        {
          "output_type": "execute_result",
          "data": {
            "text/plain": [
              "Unnamed: 0         0\n",
              "Unnamed: 0.1       0\n",
              "link               0\n",
              "text               6\n",
              "title              0\n",
              "date             499\n",
              "keywords           3\n",
              "summary            6\n",
              "title_summary      6\n",
              "dtype: int64"
            ]
          },
          "metadata": {},
          "execution_count": 65
        }
      ]
    },
    {
      "cell_type": "code",
      "metadata": {
        "id": "YM4TljJX1cYe"
      },
      "source": [
        "dataset = dataset.rename(columns={'Unnamed: 0': 'id'})"
      ],
      "id": "YM4TljJX1cYe",
      "execution_count": 35,
      "outputs": []
    },
    {
      "cell_type": "code",
      "metadata": {
        "colab": {
          "base_uri": "https://localhost:8080/",
          "height": 397
        },
        "id": "9YLsRL0Q1lOE",
        "outputId": "fda24f8c-b691-4ebf-9823-e31e73ee64e4"
      },
      "source": [
        "dataset.head(3)"
      ],
      "id": "9YLsRL0Q1lOE",
      "execution_count": 37,
      "outputs": [
        {
          "output_type": "execute_result",
          "data": {
            "text/html": [
              "<div>\n",
              "<style scoped>\n",
              "    .dataframe tbody tr th:only-of-type {\n",
              "        vertical-align: middle;\n",
              "    }\n",
              "\n",
              "    .dataframe tbody tr th {\n",
              "        vertical-align: top;\n",
              "    }\n",
              "\n",
              "    .dataframe thead th {\n",
              "        text-align: right;\n",
              "    }\n",
              "</style>\n",
              "<table border=\"1\" class=\"dataframe\">\n",
              "  <thead>\n",
              "    <tr style=\"text-align: right;\">\n",
              "      <th></th>\n",
              "      <th>id</th>\n",
              "      <th>Unnamed: 0.1</th>\n",
              "      <th>link</th>\n",
              "      <th>text</th>\n",
              "      <th>title</th>\n",
              "      <th>date</th>\n",
              "      <th>keywords</th>\n",
              "      <th>summary</th>\n",
              "      <th>title_summary</th>\n",
              "    </tr>\n",
              "  </thead>\n",
              "  <tbody>\n",
              "    <tr>\n",
              "      <th>0</th>\n",
              "      <td>0</td>\n",
              "      <td>0</td>\n",
              "      <td>http://techcrunch.com/2020/09/07/vodafone-idea...</td>\n",
              "      <td>Vodafone Idea, one of the largest telecom oper...</td>\n",
              "      <td>indian telecom giant vodafone idea rebrands   ...</td>\n",
              "      <td>2020-09-07 00:00:00</td>\n",
              "      <td>['rebrands', 'idea', 'vi', 'giant', 'brand', '...</td>\n",
              "      <td>Vodafone Idea, one of the largest telecom oper...</td>\n",
              "      <td>Indian telecom giant Vodafone Idea rebrands as...</td>\n",
              "    </tr>\n",
              "    <tr>\n",
              "      <th>1</th>\n",
              "      <td>1</td>\n",
              "      <td>1</td>\n",
              "      <td>http://techcrunch.com/2020/09/16/facebook-addr...</td>\n",
              "      <td>At the beginning of the previous decade, Faceb...</td>\n",
              "      <td>facebook addresses political controversy  indi...</td>\n",
              "      <td>2020-09-16 00:00:00</td>\n",
              "      <td>['opportunities', 'whatsapp', 'controversy', '...</td>\n",
              "      <td>Politicians in the country today heavily rely ...</td>\n",
              "      <td>Facebook addresses political controversy in In...</td>\n",
              "    </tr>\n",
              "    <tr>\n",
              "      <th>2</th>\n",
              "      <td>2</td>\n",
              "      <td>2</td>\n",
              "      <td>http://techcrunch.com/2020/09/14/youtube-launc...</td>\n",
              "      <td>As TikTok’s fate in the U.S. remains murky, Yo...</td>\n",
              "      <td>youtube launches  tiktok rival  youtube shorts...</td>\n",
              "      <td>2020-09-14 00:00:00</td>\n",
              "      <td>['rival', 'video', 'feature', 'access', 'youtu...</td>\n",
              "      <td>As TikTok’s fate in the U.S. remains murky, Yo...</td>\n",
              "      <td>YouTube launches its TikTok rival, YouTube Sho...</td>\n",
              "    </tr>\n",
              "  </tbody>\n",
              "</table>\n",
              "</div>"
            ],
            "text/plain": [
              "   id  ...                                      title_summary\n",
              "0   0  ...  Indian telecom giant Vodafone Idea rebrands as...\n",
              "1   1  ...  Facebook addresses political controversy in In...\n",
              "2   2  ...  YouTube launches its TikTok rival, YouTube Sho...\n",
              "\n",
              "[3 rows x 9 columns]"
            ]
          },
          "metadata": {},
          "execution_count": 37
        }
      ]
    },
    {
      "cell_type": "markdown",
      "metadata": {
        "id": "8eWmoKYtSP9u"
      },
      "source": [
        "##**Data Cleaning**"
      ],
      "id": "8eWmoKYtSP9u"
    },
    {
      "cell_type": "code",
      "metadata": {
        "id": "95463ac8-b3ed-4309-91f9-f6354842b980"
      },
      "source": [
        "custom_pipeline = [preprocessing.fillna,\n",
        "                   preprocessing.remove_whitespace,\n",
        "                   preprocessing.remove_diacritics,\n",
        "                   preprocessing.remove_punctuation,\n",
        "                   preprocessing.remove_stopwords,\n",
        "                   preprocessing.remove_digits,\n",
        "                   preprocessing.lowercase\n",
        "                  ]\n"
      ],
      "id": "95463ac8-b3ed-4309-91f9-f6354842b980",
      "execution_count": 68,
      "outputs": []
    },
    {
      "cell_type": "code",
      "metadata": {
        "id": "57849c36-00c9-420a-8a3e-cd30521293ff",
        "colab": {
          "base_uri": "https://localhost:8080/",
          "height": 35
        },
        "outputId": "8b1b1188-d12e-452f-e51c-ab45f80745a7"
      },
      "source": [
        "dataset['title'] = hero.clean(dataset['title'], custom_pipeline)\n",
        "dataset['title'][0]"
      ],
      "id": "57849c36-00c9-420a-8a3e-cd30521293ff",
      "execution_count": 67,
      "outputs": [
        {
          "output_type": "execute_result",
          "data": {
            "application/vnd.google.colaboratory.intrinsic+json": {
              "type": "string"
            },
            "text/plain": [
              "'indian telecom giant vodafone idea rebrands vi techcrunch'"
            ]
          },
          "metadata": {},
          "execution_count": 67
        }
      ]
    },
    {
      "cell_type": "markdown",
      "metadata": {
        "id": "u4R5Mz82SVpi"
      },
      "source": [
        "##Data Vectorization "
      ],
      "id": "u4R5Mz82SVpi"
    },
    {
      "cell_type": "code",
      "metadata": {
        "id": "67298dc5-0a1f-4bd0-a419-3a048c71d428",
        "colab": {
          "base_uri": "https://localhost:8080/"
        },
        "outputId": "284cac31-cbb0-41b9-9654-cd957f331f76"
      },
      "source": [
        "from sklearn.feature_extraction.text import TfidfVectorizer\n",
        "\n",
        "tfidf = TfidfVectorizer(analyzer='word',ngram_range=(1, 3),min_df=0,stop_words='english')\n",
        "X_tfidf = tfidf.fit_transform(dataset['title'])\n",
        "X_tfidf"
      ],
      "id": "67298dc5-0a1f-4bd0-a419-3a048c71d428",
      "execution_count": 14,
      "outputs": [
        {
          "output_type": "execute_result",
          "data": {
            "text/plain": [
              "<2190x24295 sparse matrix of type '<class 'numpy.float64'>'\n",
              "\twith 42144 stored elements in Compressed Sparse Row format>"
            ]
          },
          "metadata": {},
          "execution_count": 14
        }
      ]
    },
    {
      "cell_type": "code",
      "metadata": {
        "id": "8c20b54c-64da-4c8e-9df7-45a12d35572a",
        "colab": {
          "base_uri": "https://localhost:8080/"
        },
        "outputId": "cdfda600-3733-4b62-eda4-869b696401cf"
      },
      "source": [
        "vector = X_tfidf.toarray()\n",
        "vector[0].shape[0]"
      ],
      "id": "8c20b54c-64da-4c8e-9df7-45a12d35572a",
      "execution_count": 15,
      "outputs": [
        {
          "output_type": "execute_result",
          "data": {
            "text/plain": [
              "24295"
            ]
          },
          "metadata": {},
          "execution_count": 15
        }
      ]
    },
    {
      "cell_type": "markdown",
      "metadata": {
        "id": "2Od19jEJSisJ"
      },
      "source": [
        "#**Approximate Nearest Neighbor Search Various Techniques**"
      ],
      "id": "2Od19jEJSisJ"
    },
    {
      "cell_type": "code",
      "metadata": {
        "colab": {
          "base_uri": "https://localhost:8080/"
        },
        "id": "ChMkuinvzB_S",
        "outputId": "d17111e2-3804-482d-e151-b1aabbfd2ea2"
      },
      "source": [
        "!apt install libomp-dev\n",
        "!python -m pip install --upgrade faiss faiss-gpu\n",
        "import faiss"
      ],
      "id": "ChMkuinvzB_S",
      "execution_count": 22,
      "outputs": [
        {
          "output_type": "stream",
          "name": "stdout",
          "text": [
            "Reading package lists... Done\n",
            "Building dependency tree       \n",
            "Reading state information... Done\n",
            "The following additional packages will be installed:\n",
            "  libomp5\n",
            "Suggested packages:\n",
            "  libomp-doc\n",
            "The following NEW packages will be installed:\n",
            "  libomp-dev libomp5\n",
            "0 upgraded, 2 newly installed, 0 to remove and 37 not upgraded.\n",
            "Need to get 239 kB of archives.\n",
            "After this operation, 804 kB of additional disk space will be used.\n",
            "Get:1 http://archive.ubuntu.com/ubuntu bionic/universe amd64 libomp5 amd64 5.0.1-1 [234 kB]\n",
            "Get:2 http://archive.ubuntu.com/ubuntu bionic/universe amd64 libomp-dev amd64 5.0.1-1 [5,088 B]\n",
            "Fetched 239 kB in 1s (360 kB/s)\n",
            "Selecting previously unselected package libomp5:amd64.\n",
            "(Reading database ... 155222 files and directories currently installed.)\n",
            "Preparing to unpack .../libomp5_5.0.1-1_amd64.deb ...\n",
            "Unpacking libomp5:amd64 (5.0.1-1) ...\n",
            "Selecting previously unselected package libomp-dev.\n",
            "Preparing to unpack .../libomp-dev_5.0.1-1_amd64.deb ...\n",
            "Unpacking libomp-dev (5.0.1-1) ...\n",
            "Setting up libomp5:amd64 (5.0.1-1) ...\n",
            "Setting up libomp-dev (5.0.1-1) ...\n",
            "Processing triggers for libc-bin (2.27-3ubuntu1.3) ...\n",
            "/sbin/ldconfig.real: /usr/local/lib/python3.7/dist-packages/ideep4py/lib/libmkldnn.so.0 is not a symbolic link\n",
            "\n",
            "Requirement already satisfied: faiss in /usr/local/lib/python3.7/dist-packages (1.5.3)\n",
            "Collecting faiss-gpu\n",
            "  Downloading faiss_gpu-1.7.1.post2-cp37-cp37m-manylinux_2_17_x86_64.manylinux2014_x86_64.whl (89.7 MB)\n",
            "\u001b[K     |████████████████████████████████| 89.7 MB 17 kB/s \n",
            "\u001b[?25hRequirement already satisfied: numpy in /usr/local/lib/python3.7/dist-packages (from faiss) (1.19.5)\n",
            "Installing collected packages: faiss-gpu\n",
            "Successfully installed faiss-gpu-1.7.1.post2\n"
          ]
        }
      ]
    },
    {
      "cell_type": "code",
      "metadata": {
        "colab": {
          "base_uri": "https://localhost:8080/"
        },
        "id": "k7kbbPfCykbT",
        "outputId": "0b49aac2-3311-4b3f-9174-8d8008e30b58"
      },
      "source": [
        "!pip install faiss"
      ],
      "id": "k7kbbPfCykbT",
      "execution_count": 17,
      "outputs": [
        {
          "output_type": "stream",
          "name": "stdout",
          "text": [
            "Collecting faiss\n",
            "  Downloading faiss-1.5.3-cp37-cp37m-manylinux1_x86_64.whl (4.7 MB)\n",
            "\u001b[K     |████████████████████████████████| 4.7 MB 5.8 MB/s \n",
            "\u001b[?25hRequirement already satisfied: numpy in /usr/local/lib/python3.7/dist-packages (from faiss) (1.19.5)\n",
            "Installing collected packages: faiss\n",
            "Successfully installed faiss-1.5.3\n"
          ]
        }
      ]
    },
    {
      "cell_type": "code",
      "metadata": {
        "id": "a4be8f8a-08fb-434d-bccd-2529e798e4be"
      },
      "source": [
        "import faiss    "
      ],
      "id": "a4be8f8a-08fb-434d-bccd-2529e798e4be",
      "execution_count": 23,
      "outputs": []
    },
    {
      "cell_type": "markdown",
      "metadata": {
        "id": "7kx2bT_lSswl"
      },
      "source": [
        "##**Locality-Sensitive Hashing**"
      ],
      "id": "7kx2bT_lSswl"
    },
    {
      "cell_type": "code",
      "metadata": {
        "id": "531ed5f2-91a2-4f2b-a1d5-b63086cbb249"
      },
      "source": [
        "class LSHIndex():\n",
        "    def __init__(self, vectors, labels):\n",
        "        self.dimention = vectors[0].shape[0]\n",
        "        self.vectors = vectors.astype('float32')\n",
        "        self.labels = labels\n",
        "\n",
        "\n",
        "    def build(self, num_bits=8):\n",
        "        self.index = faiss.IndexLSH(self.dimention,num_bits)\n",
        "        self.index.add(self.vectors)\n",
        "        \n",
        "    def query(self, vectors, k=10):\n",
        "        distances, indices = self.index.search(vectors, k) \n",
        "        return [self.labels[i] for i in indices[0]]"
      ],
      "id": "531ed5f2-91a2-4f2b-a1d5-b63086cbb249",
      "execution_count": 69,
      "outputs": []
    },
    {
      "cell_type": "code",
      "metadata": {
        "id": "881f5144-a02e-48f4-aa6b-02454757e31f",
        "colab": {
          "base_uri": "https://localhost:8080/"
        },
        "outputId": "4439ed7b-8039-4c3f-d7dc-4f030ada60d8"
      },
      "source": [
        "%%time\n",
        "lsh_index = LSHIndex(vector, dataset['id'])\n",
        "lsh_index.build()"
      ],
      "id": "881f5144-a02e-48f4-aa6b-02454757e31f",
      "execution_count": 70,
      "outputs": [
        {
          "output_type": "stream",
          "name": "stdout",
          "text": [
            "CPU times: user 180 ms, sys: 1e+03 µs, total: 181 ms\n",
            "Wall time: 154 ms\n"
          ]
        }
      ]
    },
    {
      "cell_type": "code",
      "metadata": {
        "id": "d516249f-33b6-406f-8117-2472532b65c1",
        "colab": {
          "base_uri": "https://localhost:8080/",
          "height": 1000
        },
        "outputId": "5d743464-338e-4272-b0bf-26ee72ec94ec"
      },
      "source": [
        "query_index = 1\n",
        "print(f\"The most simillar to item {dataset['id'][query_index]} are:\")\n",
        "items_list = lsh_index.query(np.array([vector[query_index]]).astype('float32'))\n",
        "dataset.loc[dataset['id'].isin(items_list)]"
      ],
      "id": "d516249f-33b6-406f-8117-2472532b65c1",
      "execution_count": 39,
      "outputs": [
        {
          "output_type": "stream",
          "name": "stdout",
          "text": [
            "The most simillar to item 1 are:\n"
          ]
        },
        {
          "output_type": "execute_result",
          "data": {
            "text/html": [
              "<div>\n",
              "<style scoped>\n",
              "    .dataframe tbody tr th:only-of-type {\n",
              "        vertical-align: middle;\n",
              "    }\n",
              "\n",
              "    .dataframe tbody tr th {\n",
              "        vertical-align: top;\n",
              "    }\n",
              "\n",
              "    .dataframe thead th {\n",
              "        text-align: right;\n",
              "    }\n",
              "</style>\n",
              "<table border=\"1\" class=\"dataframe\">\n",
              "  <thead>\n",
              "    <tr style=\"text-align: right;\">\n",
              "      <th></th>\n",
              "      <th>id</th>\n",
              "      <th>Unnamed: 0.1</th>\n",
              "      <th>link</th>\n",
              "      <th>text</th>\n",
              "      <th>title</th>\n",
              "      <th>date</th>\n",
              "      <th>keywords</th>\n",
              "      <th>summary</th>\n",
              "      <th>title_summary</th>\n",
              "    </tr>\n",
              "  </thead>\n",
              "  <tbody>\n",
              "    <tr>\n",
              "      <th>1</th>\n",
              "      <td>1</td>\n",
              "      <td>1</td>\n",
              "      <td>http://techcrunch.com/2020/09/16/facebook-addr...</td>\n",
              "      <td>At the beginning of the previous decade, Faceb...</td>\n",
              "      <td>facebook addresses political controversy  indi...</td>\n",
              "      <td>2020-09-16 00:00:00</td>\n",
              "      <td>['opportunities', 'whatsapp', 'controversy', '...</td>\n",
              "      <td>Politicians in the country today heavily rely ...</td>\n",
              "      <td>Facebook addresses political controversy in In...</td>\n",
              "    </tr>\n",
              "    <tr>\n",
              "      <th>27</th>\n",
              "      <td>27</td>\n",
              "      <td>27</td>\n",
              "      <td>https://mashable.com/article/charli-damelio-tr...</td>\n",
              "      <td>Major TikTok creators are joining Triller, inc...</td>\n",
              "      <td>charli d amelio joins triller  tiktok  rival app</td>\n",
              "      <td>2020-09-15 21:28:11+00:00</td>\n",
              "      <td>['rival', 'charli', 'dixie', 'damelio', 'tikto...</td>\n",
              "      <td>Major TikTok creators are joining Triller, inc...</td>\n",
              "      <td>Charli D'Amelio joins Triller, TikTok's rival ...</td>\n",
              "    </tr>\n",
              "    <tr>\n",
              "      <th>194</th>\n",
              "      <td>194</td>\n",
              "      <td>194</td>\n",
              "      <td>https://in.reuters.com/article/koninklijke-bos...</td>\n",
              "      <td>(Refiles to correct currency conversion)\\n\\nAu...</td>\n",
              "      <td>refile boskalis sees steady full year profit  ...</td>\n",
              "      <td>2020-08-20 05:33:29+00:00</td>\n",
              "      <td>['euros', 'profit', 'fullyear', 'trybuś', 'buy...</td>\n",
              "      <td>(Refiles to correct currency conversion)Aug 20...</td>\n",
              "      <td>REFILE-Boskalis sees steady full-year profit, ...</td>\n",
              "    </tr>\n",
              "    <tr>\n",
              "      <th>209</th>\n",
              "      <td>209</td>\n",
              "      <td>209</td>\n",
              "      <td>http://techcrunch.com/2020/09/02/dear-sophie-c...</td>\n",
              "      <td>Here’s another edition of “Dear Sophie,” the a...</td>\n",
              "      <td>dear sophie  can  sponsor  h 1b university res...</td>\n",
              "      <td>2020-09-02 00:00:00</td>\n",
              "      <td>['candidate', 'petition', 'sophie', 'universit...</td>\n",
              "      <td>Dear Sophie:Our company is considering sponsor...</td>\n",
              "      <td>Dear Sophie: Can we sponsor an H-1B university...</td>\n",
              "    </tr>\n",
              "    <tr>\n",
              "      <th>248</th>\n",
              "      <td>248</td>\n",
              "      <td>248</td>\n",
              "      <td>https://in.reuters.com/article/us-twitter-cybe...</td>\n",
              "      <td>Slideshow ( 2 images )\\n\\nBENGALURU (Reuters) ...</td>\n",
              "      <td>twitter confirms account  pm modi  personal we...</td>\n",
              "      <td>2020-09-03 01:33:23+00:00</td>\n",
              "      <td>['modis', 'twitter', 'taken', 'hacked', 'confi...</td>\n",
              "      <td>Slideshow ( 2 images )BENGALURU (Reuters) - Tw...</td>\n",
              "      <td>Twitter confirms account of PM Modi's personal...</td>\n",
              "    </tr>\n",
              "    <tr>\n",
              "      <th>255</th>\n",
              "      <td>255</td>\n",
              "      <td>255</td>\n",
              "      <td>https://in.reuters.com/article/cricket-t20-sco...</td>\n",
              "      <td>Sep 1 (OPTA) - Scoreboard at close of play of ...</td>\n",
              "      <td>pakistan  england   scoreboard</td>\n",
              "      <td>2020-09-01 20:41:48+00:00</td>\n",
              "      <td>['scoreboard', 'pakistan', 'tom', 'jordan', 'i...</td>\n",
              "      <td>Sep 1 (OPTA) - Scoreboard at close of play of ...</td>\n",
              "      <td>Pakistan in England 2020 Scoreboard Sep 1 (OPT...</td>\n",
              "    </tr>\n",
              "    <tr>\n",
              "      <th>285</th>\n",
              "      <td>285</td>\n",
              "      <td>285</td>\n",
              "      <td>https://in.reuters.com/article/soccer-uefanati...</td>\n",
              "      <td>REYKJAVIK (Reuters) - England’s Raheem Sterlin...</td>\n",
              "      <td>england scrape win  iceland  late penalty drama</td>\n",
              "      <td>2020-09-05 21:41:55+00:00</td>\n",
              "      <td>['spot', 'iceland', 'goal', 'late', 'sterling'...</td>\n",
              "      <td>However, Birkir Bjarnason fired his penalty hi...</td>\n",
              "      <td>England scrape win in Iceland after late penal...</td>\n",
              "    </tr>\n",
              "    <tr>\n",
              "      <th>374</th>\n",
              "      <td>374</td>\n",
              "      <td>374</td>\n",
              "      <td>https://in.reuters.com/article/global-race-pro...</td>\n",
              "      <td>(Reuters) - Police arrested more than 60 peopl...</td>\n",
              "      <td>police arrest    louisville anti racism protests</td>\n",
              "      <td>2020-08-26 07:27:31+00:00</td>\n",
              "      <td>['burst', 'black', 'antiracism', '64', 'protes...</td>\n",
              "      <td>Sixty-four people were charged with obstructio...</td>\n",
              "      <td>Police arrest 64 in Louisville anti-racism pro...</td>\n",
              "    </tr>\n",
              "    <tr>\n",
              "      <th>500</th>\n",
              "      <td>500</td>\n",
              "      <td>500</td>\n",
              "      <td>https://vitals.lifehacker.com/take-a-free-cour...</td>\n",
              "      <td>Graphic : Andrii Vodolazhskyi ( Shutterstock )...</td>\n",
              "      <td>take  free course  covid   from mit</td>\n",
              "      <td>NaN</td>\n",
              "      <td>['pandemic', 'course', 'pt', 'mit', 'lectures'...</td>\n",
              "      <td>ET (8:30 a.m. PT ), MIT is offering a course o...</td>\n",
              "      <td>Take a Free Course on COVID-19 From MIT Graphi...</td>\n",
              "    </tr>\n",
              "    <tr>\n",
              "      <th>612</th>\n",
              "      <td>612</td>\n",
              "      <td>612</td>\n",
              "      <td>https://www.theverge.com/2020/9/4/21422653/ube...</td>\n",
              "      <td>Uber announce today that it will soon allow us...</td>\n",
              "      <td>uber launches car rentals   uk  maximum social...</td>\n",
              "      <td>2020-09-04 00:00:00</td>\n",
              "      <td>['pandemic', 'cars', 'hours', 'social', 'uk', ...</td>\n",
              "      <td>Uber announce today that it will soon allow us...</td>\n",
              "      <td>Uber launches car rentals in the UK for maximu...</td>\n",
              "    </tr>\n",
              "    <tr>\n",
              "      <th>901</th>\n",
              "      <td>1</td>\n",
              "      <td>1</td>\n",
              "      <td>https://arstechnica.com/science/2020/08/corona...</td>\n",
              "      <td>The pandemic coronavirus has made its way onto...</td>\n",
              "      <td>coronavirus creeps  us mink farms   unusually ...</td>\n",
              "      <td>NaN</td>\n",
              "      <td>['creeps', 'numbers', 'cases', 'reported', 'to...</td>\n",
              "      <td>The pandemic coronavirus has made its way onto...</td>\n",
              "      <td>Coronavirus creeps into US mink farms, “unusua...</td>\n",
              "    </tr>\n",
              "    <tr>\n",
              "      <th>927</th>\n",
              "      <td>27</td>\n",
              "      <td>27</td>\n",
              "      <td>https://www.usatoday.com/story/news/weather/20...</td>\n",
              "      <td>This year is full of things most people have n...</td>\n",
              "      <td>what   fire tornado   extreme fire activity  s...</td>\n",
              "      <td>2020-08-16 00:00:00</td>\n",
              "      <td>['air', 'rare', 'extreme', 'national', 'mph', ...</td>\n",
              "      <td>The \"extreme fire activity,\" brought on by con...</td>\n",
              "      <td>What is a fire tornado? 'Extreme fire activity...</td>\n",
              "    </tr>\n",
              "    <tr>\n",
              "      <th>1094</th>\n",
              "      <td>194</td>\n",
              "      <td>194</td>\n",
              "      <td>http://techcrunch.com/2020/08/31/capchase-rais...</td>\n",
              "      <td>As a business model, SaaS has expanded to epic...</td>\n",
              "      <td>capchase raises    6m  deliver fast cash  saas...</td>\n",
              "      <td>2020-08-31 00:00:00</td>\n",
              "      <td>['raises', 'fernández', 'debt', 'products', 's...</td>\n",
              "      <td>A number of major SaaS companies filed to go p...</td>\n",
              "      <td>Capchase raises $4.6M to deliver fast cash to ...</td>\n",
              "    </tr>\n",
              "    <tr>\n",
              "      <th>1109</th>\n",
              "      <td>209</td>\n",
              "      <td>209</td>\n",
              "      <td>https://mashable.com/article/naomi-osaka-breon...</td>\n",
              "      <td>Tennis star Naomi Osaka is using her platform ...</td>\n",
              "      <td>naomi osaka honors breonna taylor  us open match</td>\n",
              "      <td>2020-09-01 16:15:47+00:00</td>\n",
              "      <td>['world', 'racial', 'tennis', 'taylor', 'black...</td>\n",
              "      <td>Tennis star Naomi Osaka is using her platform ...</td>\n",
              "      <td>Naomi Osaka honors Breonna Taylor during US Op...</td>\n",
              "    </tr>\n",
              "    <tr>\n",
              "      <th>1148</th>\n",
              "      <td>248</td>\n",
              "      <td>248</td>\n",
              "      <td>http://techcrunch.com/2020/09/03/as-it-awaits-...</td>\n",
              "      <td>As it awaits its US fate, TikTok rolls out new...</td>\n",
              "      <td>as  awaits  us fate  tiktok rolls  new marketi...</td>\n",
              "      <td>2020-09-03 00:00:00</td>\n",
              "      <td>['brands', 'video', 'tools', 'creative', 'part...</td>\n",
              "      <td>Users who want to Stitch a video do so from th...</td>\n",
              "      <td>As it awaits its US fate, TikTok rolls out new...</td>\n",
              "    </tr>\n",
              "    <tr>\n",
              "      <th>1155</th>\n",
              "      <td>255</td>\n",
              "      <td>255</td>\n",
              "      <td>http://techcrunch.com/2020/09/04/one-more-week...</td>\n",
              "      <td>Mobility may be one of the fastest moving tech...</td>\n",
              "      <td>one  week  save  tc sessions  mobility   techc...</td>\n",
              "      <td>2020-09-04 00:00:00</td>\n",
              "      <td>['week', 'sessions', 'saint', 'pitch', 'opport...</td>\n",
              "      <td>Early-bird pricing for passes to TC Sessions: ...</td>\n",
              "      <td>One more week to save on TC Sessions: Mobility...</td>\n",
              "    </tr>\n",
              "    <tr>\n",
              "      <th>1185</th>\n",
              "      <td>285</td>\n",
              "      <td>285</td>\n",
              "      <td>http://techcrunch.com/2020/09/08/committing-to...</td>\n",
              "      <td>Ride hailing giant Uber is committing to becom...</td>\n",
              "      <td>committing   fully zero emission fleet     ube...</td>\n",
              "      <td>2020-09-08 00:00:00</td>\n",
              "      <td>['cities', 'fleet', 'working', 'electric', 'co...</td>\n",
              "      <td>Ride hailing giant Uber is committing to becom...</td>\n",
              "      <td>Committing to a fully zero-emission fleet by 2...</td>\n",
              "    </tr>\n",
              "    <tr>\n",
              "      <th>1274</th>\n",
              "      <td>374</td>\n",
              "      <td>374</td>\n",
              "      <td>http://techcrunch.com/2020/09/16/facebook-addr...</td>\n",
              "      <td>At the beginning of the previous decade, Faceb...</td>\n",
              "      <td>facebook addresses political controversy  indi...</td>\n",
              "      <td>2020-09-16 00:00:00</td>\n",
              "      <td>['facebook', 'users', 'startups', 'role', 'inv...</td>\n",
              "      <td>Politicians in the country today heavily rely ...</td>\n",
              "      <td>Facebook addresses political controversy in In...</td>\n",
              "    </tr>\n",
              "    <tr>\n",
              "      <th>1400</th>\n",
              "      <td>500</td>\n",
              "      <td>500</td>\n",
              "      <td>https://www.wired.com/story/get-wired-podcast-...</td>\n",
              "      <td>Last week’s episode of the Get WIRED podcast i...</td>\n",
              "      <td>how animal activists exposed  brutality  facto...</td>\n",
              "      <td>NaN</td>\n",
              "      <td>['animal', 'weeks', 'vr', 'process', 'johnson'...</td>\n",
              "      <td>Last week’s episode of the Get WIRED podcast i...</td>\n",
              "      <td>How Animal Activists Exposed the Brutality of ...</td>\n",
              "    </tr>\n",
              "    <tr>\n",
              "      <th>1512</th>\n",
              "      <td>612</td>\n",
              "      <td>612</td>\n",
              "      <td>http://techcrunch.com/2020/08/28/human-capital...</td>\n",
              "      <td>Welcome back to Human Capital, where we break ...</td>\n",
              "      <td>human capital   people  afraid   critical     ...</td>\n",
              "      <td>2020-08-28 00:00:00</td>\n",
              "      <td>['week', 'workers', 'afraid', 'diversity', 'st...</td>\n",
              "      <td>Welcome back to Human Capital, where we break ...</td>\n",
              "      <td>Human Capital: ‘People were afraid of being cr...</td>\n",
              "    </tr>\n",
              "  </tbody>\n",
              "</table>\n",
              "</div>"
            ],
            "text/plain": [
              "       id  ...                                      title_summary\n",
              "1       1  ...  Facebook addresses political controversy in In...\n",
              "27     27  ...  Charli D'Amelio joins Triller, TikTok's rival ...\n",
              "194   194  ...  REFILE-Boskalis sees steady full-year profit, ...\n",
              "209   209  ...  Dear Sophie: Can we sponsor an H-1B university...\n",
              "248   248  ...  Twitter confirms account of PM Modi's personal...\n",
              "255   255  ...  Pakistan in England 2020 Scoreboard Sep 1 (OPT...\n",
              "285   285  ...  England scrape win in Iceland after late penal...\n",
              "374   374  ...  Police arrest 64 in Louisville anti-racism pro...\n",
              "500   500  ...  Take a Free Course on COVID-19 From MIT Graphi...\n",
              "612   612  ...  Uber launches car rentals in the UK for maximu...\n",
              "901     1  ...  Coronavirus creeps into US mink farms, “unusua...\n",
              "927    27  ...  What is a fire tornado? 'Extreme fire activity...\n",
              "1094  194  ...  Capchase raises $4.6M to deliver fast cash to ...\n",
              "1109  209  ...  Naomi Osaka honors Breonna Taylor during US Op...\n",
              "1148  248  ...  As it awaits its US fate, TikTok rolls out new...\n",
              "1155  255  ...  One more week to save on TC Sessions: Mobility...\n",
              "1185  285  ...  Committing to a fully zero-emission fleet by 2...\n",
              "1274  374  ...  Facebook addresses political controversy in In...\n",
              "1400  500  ...  How Animal Activists Exposed the Brutality of ...\n",
              "1512  612  ...  Human Capital: ‘People were afraid of being cr...\n",
              "\n",
              "[20 rows x 9 columns]"
            ]
          },
          "metadata": {},
          "execution_count": 39
        }
      ]
    },
    {
      "cell_type": "markdown",
      "metadata": {
        "id": "diY7mBipS2bR"
      },
      "source": [
        "##**Exhaustive Search**"
      ],
      "id": "diY7mBipS2bR"
    },
    {
      "cell_type": "code",
      "metadata": {
        "id": "9af7b5a1-9754-4292-9f48-cc99124a19a3"
      },
      "source": [
        "class BruteForceIndex():\n",
        "    def __init__(self, vectors, labels):\n",
        "        self.vectors = vectors.astype('float32')\n",
        "        self.labels = labels\n",
        "        self.index = faiss.IndexFlatL2(vectors[0].shape[0])\n",
        "        self.index.add(self.vectors)\n",
        "        \n",
        "    def query(self, vectors, k=10):\n",
        "        distances, indices = self.index.search(vectors, k) \n",
        "        return [self.labels[i] for i in indices[0]]"
      ],
      "id": "9af7b5a1-9754-4292-9f48-cc99124a19a3",
      "execution_count": 40,
      "outputs": []
    },
    {
      "cell_type": "code",
      "metadata": {
        "id": "2f2dc6dc-b16e-463e-86b9-97114433da27",
        "colab": {
          "base_uri": "https://localhost:8080/"
        },
        "outputId": "5022e5b9-2ae2-4d2b-b1ad-574157272a23"
      },
      "source": [
        "%%time\n",
        "es_index = BruteForceIndex(vector, dataset['id'])"
      ],
      "id": "2f2dc6dc-b16e-463e-86b9-97114433da27",
      "execution_count": 41,
      "outputs": [
        {
          "output_type": "stream",
          "name": "stdout",
          "text": [
            "CPU times: user 96.4 ms, sys: 397 ms, total: 494 ms\n",
            "Wall time: 515 ms\n"
          ]
        }
      ]
    },
    {
      "cell_type": "code",
      "metadata": {
        "id": "ffb19158-afd8-44f5-9cc8-c1c0009b38c7",
        "colab": {
          "base_uri": "https://localhost:8080/",
          "height": 1000
        },
        "outputId": "31811fa5-fba4-4adc-d527-6e53d80488b8"
      },
      "source": [
        "query_index = 1\n",
        "print(f\"The most simillar to item {dataset['id'][query_index]} are:\")\n",
        "items_list = es_index.query(np.array([vector[query_index]]).astype('float32'))\n",
        "dataset.loc[dataset['id'].isin(items_list)]"
      ],
      "id": "ffb19158-afd8-44f5-9cc8-c1c0009b38c7",
      "execution_count": 42,
      "outputs": [
        {
          "output_type": "stream",
          "name": "stdout",
          "text": [
            "The most simillar to item 1 are:\n"
          ]
        },
        {
          "output_type": "execute_result",
          "data": {
            "text/html": [
              "<div>\n",
              "<style scoped>\n",
              "    .dataframe tbody tr th:only-of-type {\n",
              "        vertical-align: middle;\n",
              "    }\n",
              "\n",
              "    .dataframe tbody tr th {\n",
              "        vertical-align: top;\n",
              "    }\n",
              "\n",
              "    .dataframe thead th {\n",
              "        text-align: right;\n",
              "    }\n",
              "</style>\n",
              "<table border=\"1\" class=\"dataframe\">\n",
              "  <thead>\n",
              "    <tr style=\"text-align: right;\">\n",
              "      <th></th>\n",
              "      <th>id</th>\n",
              "      <th>Unnamed: 0.1</th>\n",
              "      <th>link</th>\n",
              "      <th>text</th>\n",
              "      <th>title</th>\n",
              "      <th>date</th>\n",
              "      <th>keywords</th>\n",
              "      <th>summary</th>\n",
              "      <th>title_summary</th>\n",
              "    </tr>\n",
              "  </thead>\n",
              "  <tbody>\n",
              "    <tr>\n",
              "      <th>1</th>\n",
              "      <td>1</td>\n",
              "      <td>1</td>\n",
              "      <td>http://techcrunch.com/2020/09/16/facebook-addr...</td>\n",
              "      <td>At the beginning of the previous decade, Faceb...</td>\n",
              "      <td>facebook addresses political controversy  indi...</td>\n",
              "      <td>2020-09-16 00:00:00</td>\n",
              "      <td>['opportunities', 'whatsapp', 'controversy', '...</td>\n",
              "      <td>Politicians in the country today heavily rely ...</td>\n",
              "      <td>Facebook addresses political controversy in In...</td>\n",
              "    </tr>\n",
              "    <tr>\n",
              "      <th>75</th>\n",
              "      <td>75</td>\n",
              "      <td>75</td>\n",
              "      <td>https://www.reuters.com/article/us-health-coro...</td>\n",
              "      <td>FILE PHOTO: A test tube labelled with the Vacc...</td>\n",
              "      <td>serum institute gets approval  resume india tr...</td>\n",
              "      <td>2020-09-16 06:29:19+00:00</td>\n",
              "      <td>['trial', 'covid', 'trials', 'respond', 'resum...</td>\n",
              "      <td>REUTERS/Dado Ruvic/Illustration/File PhotoMUMB...</td>\n",
              "      <td>Serum Institute gets approval to resume India ...</td>\n",
              "    </tr>\n",
              "    <tr>\n",
              "      <th>211</th>\n",
              "      <td>211</td>\n",
              "      <td>211</td>\n",
              "      <td>http://techcrunch.com/2020/09/03/facebook-to-b...</td>\n",
              "      <td>We’re now 61 days away from the U.S. president...</td>\n",
              "      <td>facebook  block new political ads   week  nov ...</td>\n",
              "      <td>2020-09-03 00:00:00</td>\n",
              "      <td>['nov', 'voting', 'information', 'elections', ...</td>\n",
              "      <td>CEO Mark Zuckerberg today announced a series o...</td>\n",
              "      <td>Facebook to block new political ads 1 week bef...</td>\n",
              "    </tr>\n",
              "    <tr>\n",
              "      <th>223</th>\n",
              "      <td>223</td>\n",
              "      <td>223</td>\n",
              "      <td>https://www.cnn.com/2020/09/04/asia/sri-lanka-...</td>\n",
              "      <td>NaN</td>\n",
              "      <td></td>\n",
              "      <td>NaN</td>\n",
              "      <td>NaN</td>\n",
              "      <td>NaN</td>\n",
              "      <td>NaN</td>\n",
              "    </tr>\n",
              "    <tr>\n",
              "      <th>231</th>\n",
              "      <td>231</td>\n",
              "      <td>231</td>\n",
              "      <td>https://in.reuters.com/article/india-morningca...</td>\n",
              "      <td>Sept 2 (Reuters) - To access a PDF version of ...</td>\n",
              "      <td>morning news call   india  september</td>\n",
              "      <td>2020-09-02 03:17:16+00:00</td>\n",
              "      <td>['coronavirus', 'global', 'manufacturing', 'da...</td>\n",
              "      <td>• India's coronavirus surge eases slightly as ...</td>\n",
              "      <td>Morning News Call - India, September 2 Sept 2 ...</td>\n",
              "    </tr>\n",
              "    <tr>\n",
              "      <th>374</th>\n",
              "      <td>374</td>\n",
              "      <td>374</td>\n",
              "      <td>https://in.reuters.com/article/global-race-pro...</td>\n",
              "      <td>(Reuters) - Police arrested more than 60 peopl...</td>\n",
              "      <td>police arrest    louisville anti racism protests</td>\n",
              "      <td>2020-08-26 07:27:31+00:00</td>\n",
              "      <td>['burst', 'black', 'antiracism', '64', 'protes...</td>\n",
              "      <td>Sixty-four people were charged with obstructio...</td>\n",
              "      <td>Police arrest 64 in Louisville anti-racism pro...</td>\n",
              "    </tr>\n",
              "    <tr>\n",
              "      <th>619</th>\n",
              "      <td>619</td>\n",
              "      <td>619</td>\n",
              "      <td>http://techcrunch.com/2020/09/03/explore-micro...</td>\n",
              "      <td>Micromobility, like many other industries, has...</td>\n",
              "      <td>explore micromobility  next opportunities  tc ...</td>\n",
              "      <td>2020-09-03 00:00:00</td>\n",
              "      <td>['opportunities', 'operators', 'innovation', '...</td>\n",
              "      <td>And despite the over-saturation of companies i...</td>\n",
              "      <td>Explore micromobility’s next opportunities at ...</td>\n",
              "    </tr>\n",
              "    <tr>\n",
              "      <th>629</th>\n",
              "      <td>629</td>\n",
              "      <td>629</td>\n",
              "      <td>http://techcrunch.com/2020/09/03/facebook-to-b...</td>\n",
              "      <td>We’re now 61 days away from the U.S. president...</td>\n",
              "      <td>facebook  block new political ads   week  nov ...</td>\n",
              "      <td>2020-09-03 00:00:00</td>\n",
              "      <td>['nov', 'voting', 'information', 'elections', ...</td>\n",
              "      <td>CEO Mark Zuckerberg today announced a series o...</td>\n",
              "      <td>Facebook to block new political ads 1 week bef...</td>\n",
              "    </tr>\n",
              "    <tr>\n",
              "      <th>737</th>\n",
              "      <td>737</td>\n",
              "      <td>737</td>\n",
              "      <td>http://techcrunch.com/2020/09/07/humanforest-g...</td>\n",
              "      <td>HumanForest, a dockless, shared and ad-support...</td>\n",
              "      <td>humanforest gets    3m  cabify founders  other...</td>\n",
              "      <td>2020-09-07 00:00:00</td>\n",
              "      <td>['grow', 'ride', 'humanforest', 'gets', 'londo...</td>\n",
              "      <td>HumanForest, a dockless, shared and ad-support...</td>\n",
              "      <td>HumanForest gets $2.3M from Cabify founders an...</td>\n",
              "    </tr>\n",
              "    <tr>\n",
              "      <th>901</th>\n",
              "      <td>1</td>\n",
              "      <td>1</td>\n",
              "      <td>https://arstechnica.com/science/2020/08/corona...</td>\n",
              "      <td>The pandemic coronavirus has made its way onto...</td>\n",
              "      <td>coronavirus creeps  us mink farms   unusually ...</td>\n",
              "      <td>NaN</td>\n",
              "      <td>['creeps', 'numbers', 'cases', 'reported', 'to...</td>\n",
              "      <td>The pandemic coronavirus has made its way onto...</td>\n",
              "      <td>Coronavirus creeps into US mink farms, “unusua...</td>\n",
              "    </tr>\n",
              "    <tr>\n",
              "      <th>975</th>\n",
              "      <td>75</td>\n",
              "      <td>75</td>\n",
              "      <td>https://abcnews.go.com/Politics/timeline-years...</td>\n",
              "      <td>Timeline: This year’s political fight over the...</td>\n",
              "      <td>timeline  this year  political fight   postal ...</td>\n",
              "      <td>NaN</td>\n",
              "      <td>['mail', 'trump', 'voting', 'ballots', 'voters...</td>\n",
              "      <td>Timeline: This year’s political fight over the...</td>\n",
              "      <td>Timeline: This year’s political fight over the...</td>\n",
              "    </tr>\n",
              "    <tr>\n",
              "      <th>1111</th>\n",
              "      <td>211</td>\n",
              "      <td>211</td>\n",
              "      <td>https://mashable.com/article/harold-moody-goog...</td>\n",
              "      <td>Tuesday's Google Doodle pays tribute to racial...</td>\n",
              "      <td>google doodle honours harold moody  founder   ...</td>\n",
              "      <td>2020-09-01 10:30:30+00:00</td>\n",
              "      <td>['movement', 'medical', 'rights', 'honours', '...</td>\n",
              "      <td>Tuesday's Google Doodle pays tribute to racial...</td>\n",
              "      <td>Google Doodle honours Harold Moody, founder of...</td>\n",
              "    </tr>\n",
              "    <tr>\n",
              "      <th>1123</th>\n",
              "      <td>223</td>\n",
              "      <td>223</td>\n",
              "      <td>https://mashable.com/article/joe-biden-kamala-...</td>\n",
              "      <td>Joe Biden and Kamala Harris are taking their 2...</td>\n",
              "      <td>biden  harris launch yard signs   animal cross...</td>\n",
              "      <td>2020-09-01 17:14:40+00:00</td>\n",
              "      <td>['bidenharris', 'signs', 'yard', 'designs', 'a...</td>\n",
              "      <td>Joe Biden and Kamala Harris are taking their 2...</td>\n",
              "      <td>Biden and Harris launch yard signs for 'Animal...</td>\n",
              "    </tr>\n",
              "    <tr>\n",
              "      <th>1131</th>\n",
              "      <td>231</td>\n",
              "      <td>231</td>\n",
              "      <td>https://www.engadget.com/game-development-bund...</td>\n",
              "      <td>NaN</td>\n",
              "      <td></td>\n",
              "      <td>NaN</td>\n",
              "      <td>NaN</td>\n",
              "      <td>NaN</td>\n",
              "      <td>NaN</td>\n",
              "    </tr>\n",
              "    <tr>\n",
              "      <th>1274</th>\n",
              "      <td>374</td>\n",
              "      <td>374</td>\n",
              "      <td>http://techcrunch.com/2020/09/16/facebook-addr...</td>\n",
              "      <td>At the beginning of the previous decade, Faceb...</td>\n",
              "      <td>facebook addresses political controversy  indi...</td>\n",
              "      <td>2020-09-16 00:00:00</td>\n",
              "      <td>['facebook', 'users', 'startups', 'role', 'inv...</td>\n",
              "      <td>Politicians in the country today heavily rely ...</td>\n",
              "      <td>Facebook addresses political controversy in In...</td>\n",
              "    </tr>\n",
              "    <tr>\n",
              "      <th>1519</th>\n",
              "      <td>619</td>\n",
              "      <td>619</td>\n",
              "      <td>http://techcrunch.com/2020/08/25/the-pandemic-...</td>\n",
              "      <td>A lagging trend of the past few months has bee...</td>\n",
              "      <td>the pandemic  probably killed vr arcades  good...</td>\n",
              "      <td>2020-08-25 00:00:00</td>\n",
              "      <td>['good', 'startups', 'vr', 'pandemic', 'entert...</td>\n",
              "      <td>Not all spaces have been quite so lucky; in pa...</td>\n",
              "      <td>The pandemic has probably killed VR arcades fo...</td>\n",
              "    </tr>\n",
              "    <tr>\n",
              "      <th>1529</th>\n",
              "      <td>629</td>\n",
              "      <td>629</td>\n",
              "      <td>https://www.bbc.co.uk/news/business-53928783</td>\n",
              "      <td>Image copyright Getty Images\\n\\nThe Democratic...</td>\n",
              "      <td>trump  biden  china expects  favours either way</td>\n",
              "      <td>NaN</td>\n",
              "      <td>['president', 'trump', 'administration', 'reas...</td>\n",
              "      <td>Several insiders at Chinese technology firms s...</td>\n",
              "      <td>Trump or Biden? China expects no favours eithe...</td>\n",
              "    </tr>\n",
              "    <tr>\n",
              "      <th>1637</th>\n",
              "      <td>737</td>\n",
              "      <td>737</td>\n",
              "      <td>http://techcrunch.com/2020/09/03/explore-micro...</td>\n",
              "      <td>Micromobility, like many other industries, has...</td>\n",
              "      <td>explore micromobility  next opportunities  tc ...</td>\n",
              "      <td>2020-09-03 00:00:00</td>\n",
              "      <td>['sessions', 'cities', 'van', 'electric', 'tor...</td>\n",
              "      <td>And despite the over-saturation of companies i...</td>\n",
              "      <td>Explore micromobility’s next opportunities at ...</td>\n",
              "    </tr>\n",
              "    <tr>\n",
              "      <th>1975</th>\n",
              "      <td>1075</td>\n",
              "      <td>1075</td>\n",
              "      <td>https://www.reuters.com/video/watch/idPbXE?now...</td>\n",
              "      <td>NaN</td>\n",
              "      <td></td>\n",
              "      <td>NaN</td>\n",
              "      <td>NaN</td>\n",
              "      <td>NaN</td>\n",
              "      <td>NaN</td>\n",
              "    </tr>\n",
              "  </tbody>\n",
              "</table>\n",
              "</div>"
            ],
            "text/plain": [
              "        id  ...                                      title_summary\n",
              "1        1  ...  Facebook addresses political controversy in In...\n",
              "75      75  ...  Serum Institute gets approval to resume India ...\n",
              "211    211  ...  Facebook to block new political ads 1 week bef...\n",
              "223    223  ...                                                NaN\n",
              "231    231  ...  Morning News Call - India, September 2 Sept 2 ...\n",
              "374    374  ...  Police arrest 64 in Louisville anti-racism pro...\n",
              "619    619  ...  Explore micromobility’s next opportunities at ...\n",
              "629    629  ...  Facebook to block new political ads 1 week bef...\n",
              "737    737  ...  HumanForest gets $2.3M from Cabify founders an...\n",
              "901      1  ...  Coronavirus creeps into US mink farms, “unusua...\n",
              "975     75  ...  Timeline: This year’s political fight over the...\n",
              "1111   211  ...  Google Doodle honours Harold Moody, founder of...\n",
              "1123   223  ...  Biden and Harris launch yard signs for 'Animal...\n",
              "1131   231  ...                                                NaN\n",
              "1274   374  ...  Facebook addresses political controversy in In...\n",
              "1519   619  ...  The pandemic has probably killed VR arcades fo...\n",
              "1529   629  ...  Trump or Biden? China expects no favours eithe...\n",
              "1637   737  ...  Explore micromobility’s next opportunities at ...\n",
              "1975  1075  ...                                                NaN\n",
              "\n",
              "[19 rows x 9 columns]"
            ]
          },
          "metadata": {},
          "execution_count": 42
        }
      ]
    },
    {
      "cell_type": "markdown",
      "metadata": {
        "id": "et-8xUulTEY5"
      },
      "source": [
        "##**Product Quantization**"
      ],
      "id": "et-8xUulTEY5"
    },
    {
      "cell_type": "code",
      "metadata": {
        "id": "a21d6e7f-3402-4d7d-8fbe-d48c0583ad6e"
      },
      "source": [
        "class PQIndex():\n",
        "    def __init__(self, vectors, labels):\n",
        "        self.dimention = vectors.shape[1]\n",
        "        self.vectors = vectors.astype('float32')\n",
        "        self.labels = labels\n",
        "\n",
        "\n",
        "    def build(self, number_of_partition=8, search_in_x_partitions=2, subvector_size=8):\n",
        "        m = 3\n",
        "        n_bits = 8\n",
        "        self.index = faiss.IndexPQ (self.dimention, m, n_bits)\n",
        "        self.index.train(self.vectors)\n",
        "        self.index.add(self.vectors)\n",
        "        \n",
        "    def query(self, vectors, k=10):\n",
        "        distances, indices = self.index.search(vectors, k) \n",
        "        return [self.labels[i] for i in indices[0]]"
      ],
      "id": "a21d6e7f-3402-4d7d-8fbe-d48c0583ad6e",
      "execution_count": 43,
      "outputs": []
    },
    {
      "cell_type": "markdown",
      "metadata": {
        "id": "2mDjJjMoTPJ1"
      },
      "source": [
        "The number of bits n_bits (bits allocated per subquantizer) must be equal to 8, 12 or 16. The dimension d should be a multiple of m (number of subquantizers). Therefore, we need to apply batch here since the vector dimension is 49811, which is a prime number."
      ],
      "id": "2mDjJjMoTPJ1"
    },
    {
      "cell_type": "code",
      "metadata": {
        "id": "99702791-439c-4094-994f-aaa58ef5913a"
      },
      "source": [
        "batch_vector = []\n",
        "for idx, arr in enumerate(vector):\n",
        "    batch_vector.append(list(np.append(arr, 0.0)))"
      ],
      "id": "99702791-439c-4094-994f-aaa58ef5913a",
      "execution_count": 44,
      "outputs": []
    },
    {
      "cell_type": "code",
      "metadata": {
        "id": "f04a77ef-cb3a-4c8c-b79b-e4517a9c90d5",
        "colab": {
          "base_uri": "https://localhost:8080/"
        },
        "outputId": "c1e4cad8-7077-4bf0-bbd3-4f862d53bb39"
      },
      "source": [
        "%%time\n",
        "batch_vector = np.array(batch_vector)\n",
        "pq_index = PQIndex(batch_vector, dataset['id'])\n",
        "pq_index.build()"
      ],
      "id": "f04a77ef-cb3a-4c8c-b79b-e4517a9c90d5",
      "execution_count": 60,
      "outputs": [
        {
          "output_type": "stream",
          "name": "stdout",
          "text": [
            "CPU times: user 4 µs, sys: 0 ns, total: 4 µs\n",
            "Wall time: 8.82 µs\n"
          ]
        }
      ]
    },
    {
      "cell_type": "code",
      "metadata": {
        "id": "8dbf90f8-8c6e-489c-a22b-cee3a97b4a86",
        "colab": {
          "base_uri": "https://localhost:8080/"
        },
        "outputId": "e471812e-dcb8-4ee1-fed2-5bd3070a0c2b"
      },
      "source": [
        "query_index = 1\n",
        "print(f\"The most simillar to item {dataset['id'][query_index]} are:\")\n",
        "# items_list = pq_index.query(np.array([batch_vector[query_index]]).astype('float32'))\n",
        "# dataset.loc[dataset['id'].isin(items_list)]"
      ],
      "id": "8dbf90f8-8c6e-489c-a22b-cee3a97b4a86",
      "execution_count": 62,
      "outputs": [
        {
          "output_type": "stream",
          "name": "stdout",
          "text": [
            "The most simillar to item 1 are:\n"
          ]
        }
      ]
    },
    {
      "cell_type": "markdown",
      "metadata": {
        "id": "rM0gJOQJUmiO"
      },
      "source": [
        "##**Trees and Graphs**"
      ],
      "id": "rM0gJOQJUmiO"
    },
    {
      "cell_type": "code",
      "metadata": {
        "id": "13ca48e9-384a-49a7-b373-5254b448fe8a",
        "colab": {
          "base_uri": "https://localhost:8080/"
        },
        "outputId": "e9292dbe-b709-4b6b-f3d4-f71dc561b447"
      },
      "source": [
        "!pip install annoy"
      ],
      "id": "13ca48e9-384a-49a7-b373-5254b448fe8a",
      "execution_count": 48,
      "outputs": [
        {
          "output_type": "stream",
          "name": "stdout",
          "text": [
            "Collecting annoy\n",
            "  Downloading annoy-1.17.0.tar.gz (646 kB)\n",
            "\u001b[?25l\r\u001b[K     |▌                               | 10 kB 22.6 MB/s eta 0:00:01\r\u001b[K     |█                               | 20 kB 26.8 MB/s eta 0:00:01\r\u001b[K     |█▌                              | 30 kB 22.2 MB/s eta 0:00:01\r\u001b[K     |██                              | 40 kB 13.6 MB/s eta 0:00:01\r\u001b[K     |██▌                             | 51 kB 5.8 MB/s eta 0:00:01\r\u001b[K     |███                             | 61 kB 5.7 MB/s eta 0:00:01\r\u001b[K     |███▌                            | 71 kB 5.6 MB/s eta 0:00:01\r\u001b[K     |████                            | 81 kB 6.2 MB/s eta 0:00:01\r\u001b[K     |████▋                           | 92 kB 6.1 MB/s eta 0:00:01\r\u001b[K     |█████                           | 102 kB 5.3 MB/s eta 0:00:01\r\u001b[K     |█████▋                          | 112 kB 5.3 MB/s eta 0:00:01\r\u001b[K     |██████                          | 122 kB 5.3 MB/s eta 0:00:01\r\u001b[K     |██████▋                         | 133 kB 5.3 MB/s eta 0:00:01\r\u001b[K     |███████                         | 143 kB 5.3 MB/s eta 0:00:01\r\u001b[K     |███████▋                        | 153 kB 5.3 MB/s eta 0:00:01\r\u001b[K     |████████▏                       | 163 kB 5.3 MB/s eta 0:00:01\r\u001b[K     |████████▋                       | 174 kB 5.3 MB/s eta 0:00:01\r\u001b[K     |█████████▏                      | 184 kB 5.3 MB/s eta 0:00:01\r\u001b[K     |█████████▋                      | 194 kB 5.3 MB/s eta 0:00:01\r\u001b[K     |██████████▏                     | 204 kB 5.3 MB/s eta 0:00:01\r\u001b[K     |██████████▋                     | 215 kB 5.3 MB/s eta 0:00:01\r\u001b[K     |███████████▏                    | 225 kB 5.3 MB/s eta 0:00:01\r\u001b[K     |███████████▋                    | 235 kB 5.3 MB/s eta 0:00:01\r\u001b[K     |████████████▏                   | 245 kB 5.3 MB/s eta 0:00:01\r\u001b[K     |████████████▊                   | 256 kB 5.3 MB/s eta 0:00:01\r\u001b[K     |█████████████▏                  | 266 kB 5.3 MB/s eta 0:00:01\r\u001b[K     |█████████████▊                  | 276 kB 5.3 MB/s eta 0:00:01\r\u001b[K     |██████████████▏                 | 286 kB 5.3 MB/s eta 0:00:01\r\u001b[K     |██████████████▊                 | 296 kB 5.3 MB/s eta 0:00:01\r\u001b[K     |███████████████▏                | 307 kB 5.3 MB/s eta 0:00:01\r\u001b[K     |███████████████▊                | 317 kB 5.3 MB/s eta 0:00:01\r\u001b[K     |████████████████▎               | 327 kB 5.3 MB/s eta 0:00:01\r\u001b[K     |████████████████▊               | 337 kB 5.3 MB/s eta 0:00:01\r\u001b[K     |█████████████████▎              | 348 kB 5.3 MB/s eta 0:00:01\r\u001b[K     |█████████████████▊              | 358 kB 5.3 MB/s eta 0:00:01\r\u001b[K     |██████████████████▎             | 368 kB 5.3 MB/s eta 0:00:01\r\u001b[K     |██████████████████▊             | 378 kB 5.3 MB/s eta 0:00:01\r\u001b[K     |███████████████████▎            | 389 kB 5.3 MB/s eta 0:00:01\r\u001b[K     |███████████████████▊            | 399 kB 5.3 MB/s eta 0:00:01\r\u001b[K     |████████████████████▎           | 409 kB 5.3 MB/s eta 0:00:01\r\u001b[K     |████████████████████▉           | 419 kB 5.3 MB/s eta 0:00:01\r\u001b[K     |█████████████████████▎          | 430 kB 5.3 MB/s eta 0:00:01\r\u001b[K     |█████████████████████▉          | 440 kB 5.3 MB/s eta 0:00:01\r\u001b[K     |██████████████████████▎         | 450 kB 5.3 MB/s eta 0:00:01\r\u001b[K     |██████████████████████▉         | 460 kB 5.3 MB/s eta 0:00:01\r\u001b[K     |███████████████████████▎        | 471 kB 5.3 MB/s eta 0:00:01\r\u001b[K     |███████████████████████▉        | 481 kB 5.3 MB/s eta 0:00:01\r\u001b[K     |████████████████████████▍       | 491 kB 5.3 MB/s eta 0:00:01\r\u001b[K     |████████████████████████▉       | 501 kB 5.3 MB/s eta 0:00:01\r\u001b[K     |█████████████████████████▍      | 512 kB 5.3 MB/s eta 0:00:01\r\u001b[K     |█████████████████████████▉      | 522 kB 5.3 MB/s eta 0:00:01\r\u001b[K     |██████████████████████████▍     | 532 kB 5.3 MB/s eta 0:00:01\r\u001b[K     |██████████████████████████▉     | 542 kB 5.3 MB/s eta 0:00:01\r\u001b[K     |███████████████████████████▍    | 552 kB 5.3 MB/s eta 0:00:01\r\u001b[K     |███████████████████████████▉    | 563 kB 5.3 MB/s eta 0:00:01\r\u001b[K     |████████████████████████████▍   | 573 kB 5.3 MB/s eta 0:00:01\r\u001b[K     |█████████████████████████████   | 583 kB 5.3 MB/s eta 0:00:01\r\u001b[K     |█████████████████████████████▍  | 593 kB 5.3 MB/s eta 0:00:01\r\u001b[K     |██████████████████████████████  | 604 kB 5.3 MB/s eta 0:00:01\r\u001b[K     |██████████████████████████████▍ | 614 kB 5.3 MB/s eta 0:00:01\r\u001b[K     |███████████████████████████████ | 624 kB 5.3 MB/s eta 0:00:01\r\u001b[K     |███████████████████████████████▍| 634 kB 5.3 MB/s eta 0:00:01\r\u001b[K     |████████████████████████████████| 645 kB 5.3 MB/s eta 0:00:01\r\u001b[K     |████████████████████████████████| 646 kB 5.3 MB/s \n",
            "\u001b[?25hBuilding wheels for collected packages: annoy\n",
            "  Building wheel for annoy (setup.py) ... \u001b[?25l\u001b[?25hdone\n",
            "  Created wheel for annoy: filename=annoy-1.17.0-cp37-cp37m-linux_x86_64.whl size=391666 sha256=23e7b9c33c41b2855fc58756f6ee979c36c58a5a34e0c8c985b55684e35dc75c\n",
            "  Stored in directory: /root/.cache/pip/wheels/4f/e8/1e/7cc9ebbfa87a3b9f8ba79408d4d31831d67eea918b679a4c07\n",
            "Successfully built annoy\n",
            "Installing collected packages: annoy\n",
            "Successfully installed annoy-1.17.0\n"
          ]
        }
      ]
    },
    {
      "cell_type": "code",
      "metadata": {
        "id": "cnNS5W602Mmk"
      },
      "source": [
        "import annoy"
      ],
      "id": "cnNS5W602Mmk",
      "execution_count": 49,
      "outputs": []
    },
    {
      "cell_type": "code",
      "metadata": {
        "id": "3ad544cf-5f7d-4c04-9cc6-3ac839d6ea8c"
      },
      "source": [
        "class TreeGraphIndex():\n",
        "    def __init__(self, vectors, labels):\n",
        "        self.dimention = vectors[0].shape[0]\n",
        "        self.vectors = vectors.astype('float32')\n",
        "        self.labels = labels\n",
        "\n",
        "\n",
        "    def build(self, number_of_trees=5):\n",
        "        self.index = annoy.AnnoyIndex(self.dimention, metric='angular')\n",
        "        for i, vec in enumerate(self.vectors):\n",
        "            self.index.add_item(i, vec.tolist())\n",
        "        self.index.build(number_of_trees)\n",
        "        \n",
        "    def query(self, vector, k=10):\n",
        "        indices = self.index.get_nns_by_vector(vector.tolist(), k)\n",
        "        return [self.labels[i] for i in indices]"
      ],
      "id": "3ad544cf-5f7d-4c04-9cc6-3ac839d6ea8c",
      "execution_count": 50,
      "outputs": []
    },
    {
      "cell_type": "code",
      "metadata": {
        "id": "ae21b5c0-b4fd-424a-818c-59fed2b237c3",
        "colab": {
          "base_uri": "https://localhost:8080/"
        },
        "outputId": "4f411cc9-7191-4dd8-cc5d-8218e3b7e2ef"
      },
      "source": [
        "%%time\n",
        "tg_index = TreeGraphIndex(vector, dataset['id'])\n",
        "tg_index.build()"
      ],
      "id": "ae21b5c0-b4fd-424a-818c-59fed2b237c3",
      "execution_count": 51,
      "outputs": [
        {
          "output_type": "stream",
          "name": "stdout",
          "text": [
            "CPU times: user 3.33 s, sys: 233 ms, total: 3.56 s\n",
            "Wall time: 3.57 s\n"
          ]
        }
      ]
    },
    {
      "cell_type": "code",
      "metadata": {
        "id": "79ce91c3-554d-4465-8181-39b135dd59d8",
        "colab": {
          "base_uri": "https://localhost:8080/",
          "height": 1000
        },
        "outputId": "1b714311-a4ec-42cc-9524-0b2dacc7cc5f"
      },
      "source": [
        "query_index = 1\n",
        "print(f\"The most simillar to item {dataset['id'][query_index]} are:\")\n",
        "items_list = tg_index.query(vector[query_index])\n",
        "dataset.loc[dataset['id'].isin(items_list)]"
      ],
      "id": "79ce91c3-554d-4465-8181-39b135dd59d8",
      "execution_count": 52,
      "outputs": [
        {
          "output_type": "stream",
          "name": "stdout",
          "text": [
            "The most simillar to item 1 are:\n"
          ]
        },
        {
          "output_type": "execute_result",
          "data": {
            "text/html": [
              "<div>\n",
              "<style scoped>\n",
              "    .dataframe tbody tr th:only-of-type {\n",
              "        vertical-align: middle;\n",
              "    }\n",
              "\n",
              "    .dataframe tbody tr th {\n",
              "        vertical-align: top;\n",
              "    }\n",
              "\n",
              "    .dataframe thead th {\n",
              "        text-align: right;\n",
              "    }\n",
              "</style>\n",
              "<table border=\"1\" class=\"dataframe\">\n",
              "  <thead>\n",
              "    <tr style=\"text-align: right;\">\n",
              "      <th></th>\n",
              "      <th>id</th>\n",
              "      <th>Unnamed: 0.1</th>\n",
              "      <th>link</th>\n",
              "      <th>text</th>\n",
              "      <th>title</th>\n",
              "      <th>date</th>\n",
              "      <th>keywords</th>\n",
              "      <th>summary</th>\n",
              "      <th>title_summary</th>\n",
              "    </tr>\n",
              "  </thead>\n",
              "  <tbody>\n",
              "    <tr>\n",
              "      <th>1</th>\n",
              "      <td>1</td>\n",
              "      <td>1</td>\n",
              "      <td>http://techcrunch.com/2020/09/16/facebook-addr...</td>\n",
              "      <td>At the beginning of the previous decade, Faceb...</td>\n",
              "      <td>facebook addresses political controversy  indi...</td>\n",
              "      <td>2020-09-16 00:00:00</td>\n",
              "      <td>['opportunities', 'whatsapp', 'controversy', '...</td>\n",
              "      <td>Politicians in the country today heavily rely ...</td>\n",
              "      <td>Facebook addresses political controversy in In...</td>\n",
              "    </tr>\n",
              "    <tr>\n",
              "      <th>75</th>\n",
              "      <td>75</td>\n",
              "      <td>75</td>\n",
              "      <td>https://www.reuters.com/article/us-health-coro...</td>\n",
              "      <td>FILE PHOTO: A test tube labelled with the Vacc...</td>\n",
              "      <td>serum institute gets approval  resume india tr...</td>\n",
              "      <td>2020-09-16 06:29:19+00:00</td>\n",
              "      <td>['trial', 'covid', 'trials', 'respond', 'resum...</td>\n",
              "      <td>REUTERS/Dado Ruvic/Illustration/File PhotoMUMB...</td>\n",
              "      <td>Serum Institute gets approval to resume India ...</td>\n",
              "    </tr>\n",
              "    <tr>\n",
              "      <th>211</th>\n",
              "      <td>211</td>\n",
              "      <td>211</td>\n",
              "      <td>http://techcrunch.com/2020/09/03/facebook-to-b...</td>\n",
              "      <td>We’re now 61 days away from the U.S. president...</td>\n",
              "      <td>facebook  block new political ads   week  nov ...</td>\n",
              "      <td>2020-09-03 00:00:00</td>\n",
              "      <td>['nov', 'voting', 'information', 'elections', ...</td>\n",
              "      <td>CEO Mark Zuckerberg today announced a series o...</td>\n",
              "      <td>Facebook to block new political ads 1 week bef...</td>\n",
              "    </tr>\n",
              "    <tr>\n",
              "      <th>374</th>\n",
              "      <td>374</td>\n",
              "      <td>374</td>\n",
              "      <td>https://in.reuters.com/article/global-race-pro...</td>\n",
              "      <td>(Reuters) - Police arrested more than 60 peopl...</td>\n",
              "      <td>police arrest    louisville anti racism protests</td>\n",
              "      <td>2020-08-26 07:27:31+00:00</td>\n",
              "      <td>['burst', 'black', 'antiracism', '64', 'protes...</td>\n",
              "      <td>Sixty-four people were charged with obstructio...</td>\n",
              "      <td>Police arrest 64 in Louisville anti-racism pro...</td>\n",
              "    </tr>\n",
              "    <tr>\n",
              "      <th>619</th>\n",
              "      <td>619</td>\n",
              "      <td>619</td>\n",
              "      <td>http://techcrunch.com/2020/09/03/explore-micro...</td>\n",
              "      <td>Micromobility, like many other industries, has...</td>\n",
              "      <td>explore micromobility  next opportunities  tc ...</td>\n",
              "      <td>2020-09-03 00:00:00</td>\n",
              "      <td>['opportunities', 'operators', 'innovation', '...</td>\n",
              "      <td>And despite the over-saturation of companies i...</td>\n",
              "      <td>Explore micromobility’s next opportunities at ...</td>\n",
              "    </tr>\n",
              "    <tr>\n",
              "      <th>629</th>\n",
              "      <td>629</td>\n",
              "      <td>629</td>\n",
              "      <td>http://techcrunch.com/2020/09/03/facebook-to-b...</td>\n",
              "      <td>We’re now 61 days away from the U.S. president...</td>\n",
              "      <td>facebook  block new political ads   week  nov ...</td>\n",
              "      <td>2020-09-03 00:00:00</td>\n",
              "      <td>['nov', 'voting', 'information', 'elections', ...</td>\n",
              "      <td>CEO Mark Zuckerberg today announced a series o...</td>\n",
              "      <td>Facebook to block new political ads 1 week bef...</td>\n",
              "    </tr>\n",
              "    <tr>\n",
              "      <th>737</th>\n",
              "      <td>737</td>\n",
              "      <td>737</td>\n",
              "      <td>http://techcrunch.com/2020/09/07/humanforest-g...</td>\n",
              "      <td>HumanForest, a dockless, shared and ad-support...</td>\n",
              "      <td>humanforest gets    3m  cabify founders  other...</td>\n",
              "      <td>2020-09-07 00:00:00</td>\n",
              "      <td>['grow', 'ride', 'humanforest', 'gets', 'londo...</td>\n",
              "      <td>HumanForest, a dockless, shared and ad-support...</td>\n",
              "      <td>HumanForest gets $2.3M from Cabify founders an...</td>\n",
              "    </tr>\n",
              "    <tr>\n",
              "      <th>837</th>\n",
              "      <td>837</td>\n",
              "      <td>837</td>\n",
              "      <td>http://techcrunch.com/2020/09/11/10-poland-bas...</td>\n",
              "      <td>Poland is becoming an important European tech ...</td>\n",
              "      <td>poland based investors discuss trends  oppor...</td>\n",
              "      <td>2020-09-11 00:00:00</td>\n",
              "      <td>['opportunities', 'investors', 'companies', 't...</td>\n",
              "      <td>Meanwhile, the startup ecosystem has, in recen...</td>\n",
              "      <td>10 Poland-based investors discuss trends, oppo...</td>\n",
              "    </tr>\n",
              "    <tr>\n",
              "      <th>901</th>\n",
              "      <td>1</td>\n",
              "      <td>1</td>\n",
              "      <td>https://arstechnica.com/science/2020/08/corona...</td>\n",
              "      <td>The pandemic coronavirus has made its way onto...</td>\n",
              "      <td>coronavirus creeps  us mink farms   unusually ...</td>\n",
              "      <td>NaN</td>\n",
              "      <td>['creeps', 'numbers', 'cases', 'reported', 'to...</td>\n",
              "      <td>The pandemic coronavirus has made its way onto...</td>\n",
              "      <td>Coronavirus creeps into US mink farms, “unusua...</td>\n",
              "    </tr>\n",
              "    <tr>\n",
              "      <th>975</th>\n",
              "      <td>75</td>\n",
              "      <td>75</td>\n",
              "      <td>https://abcnews.go.com/Politics/timeline-years...</td>\n",
              "      <td>Timeline: This year’s political fight over the...</td>\n",
              "      <td>timeline  this year  political fight   postal ...</td>\n",
              "      <td>NaN</td>\n",
              "      <td>['mail', 'trump', 'voting', 'ballots', 'voters...</td>\n",
              "      <td>Timeline: This year’s political fight over the...</td>\n",
              "      <td>Timeline: This year’s political fight over the...</td>\n",
              "    </tr>\n",
              "    <tr>\n",
              "      <th>1111</th>\n",
              "      <td>211</td>\n",
              "      <td>211</td>\n",
              "      <td>https://mashable.com/article/harold-moody-goog...</td>\n",
              "      <td>Tuesday's Google Doodle pays tribute to racial...</td>\n",
              "      <td>google doodle honours harold moody  founder   ...</td>\n",
              "      <td>2020-09-01 10:30:30+00:00</td>\n",
              "      <td>['movement', 'medical', 'rights', 'honours', '...</td>\n",
              "      <td>Tuesday's Google Doodle pays tribute to racial...</td>\n",
              "      <td>Google Doodle honours Harold Moody, founder of...</td>\n",
              "    </tr>\n",
              "    <tr>\n",
              "      <th>1274</th>\n",
              "      <td>374</td>\n",
              "      <td>374</td>\n",
              "      <td>http://techcrunch.com/2020/09/16/facebook-addr...</td>\n",
              "      <td>At the beginning of the previous decade, Faceb...</td>\n",
              "      <td>facebook addresses political controversy  indi...</td>\n",
              "      <td>2020-09-16 00:00:00</td>\n",
              "      <td>['facebook', 'users', 'startups', 'role', 'inv...</td>\n",
              "      <td>Politicians in the country today heavily rely ...</td>\n",
              "      <td>Facebook addresses political controversy in In...</td>\n",
              "    </tr>\n",
              "    <tr>\n",
              "      <th>1519</th>\n",
              "      <td>619</td>\n",
              "      <td>619</td>\n",
              "      <td>http://techcrunch.com/2020/08/25/the-pandemic-...</td>\n",
              "      <td>A lagging trend of the past few months has bee...</td>\n",
              "      <td>the pandemic  probably killed vr arcades  good...</td>\n",
              "      <td>2020-08-25 00:00:00</td>\n",
              "      <td>['good', 'startups', 'vr', 'pandemic', 'entert...</td>\n",
              "      <td>Not all spaces have been quite so lucky; in pa...</td>\n",
              "      <td>The pandemic has probably killed VR arcades fo...</td>\n",
              "    </tr>\n",
              "    <tr>\n",
              "      <th>1529</th>\n",
              "      <td>629</td>\n",
              "      <td>629</td>\n",
              "      <td>https://www.bbc.co.uk/news/business-53928783</td>\n",
              "      <td>Image copyright Getty Images\\n\\nThe Democratic...</td>\n",
              "      <td>trump  biden  china expects  favours either way</td>\n",
              "      <td>NaN</td>\n",
              "      <td>['president', 'trump', 'administration', 'reas...</td>\n",
              "      <td>Several insiders at Chinese technology firms s...</td>\n",
              "      <td>Trump or Biden? China expects no favours eithe...</td>\n",
              "    </tr>\n",
              "    <tr>\n",
              "      <th>1637</th>\n",
              "      <td>737</td>\n",
              "      <td>737</td>\n",
              "      <td>http://techcrunch.com/2020/09/03/explore-micro...</td>\n",
              "      <td>Micromobility, like many other industries, has...</td>\n",
              "      <td>explore micromobility  next opportunities  tc ...</td>\n",
              "      <td>2020-09-03 00:00:00</td>\n",
              "      <td>['sessions', 'cities', 'van', 'electric', 'tor...</td>\n",
              "      <td>And despite the over-saturation of companies i...</td>\n",
              "      <td>Explore micromobility’s next opportunities at ...</td>\n",
              "    </tr>\n",
              "    <tr>\n",
              "      <th>1737</th>\n",
              "      <td>837</td>\n",
              "      <td>837</td>\n",
              "      <td>https://www.reuters.com/article/us-china-econo...</td>\n",
              "      <td>BEIJING (Reuters) - China has unveiled a “dual...</td>\n",
              "      <td>what  know  china   dual circulation  economic...</td>\n",
              "      <td>2020-09-15 21:05:34+00:00</td>\n",
              "      <td>['chinas', 'circulation', 'foreign', 'economic...</td>\n",
              "      <td>BEIJING (Reuters) - China has unveiled a “dual...</td>\n",
              "      <td>What we know about China's 'dual circulation' ...</td>\n",
              "    </tr>\n",
              "    <tr>\n",
              "      <th>1809</th>\n",
              "      <td>909</td>\n",
              "      <td>909</td>\n",
              "      <td>https://www.reuters.com/article/us-global-mark...</td>\n",
              "      <td>NEW YORK (Reuters) - Global equities treaded w...</td>\n",
              "      <td>equities edge higher  political concerns weigh...</td>\n",
              "      <td>2020-09-10 23:54:51+00:00</td>\n",
              "      <td>['week', 'edge', 'europe', 'worlds', 'politica...</td>\n",
              "      <td>NEW YORK (Reuters) - Global equities treaded w...</td>\n",
              "      <td>Equities edge higher as political concerns wei...</td>\n",
              "    </tr>\n",
              "    <tr>\n",
              "      <th>2049</th>\n",
              "      <td>1149</td>\n",
              "      <td>1149</td>\n",
              "      <td>http://techcrunch.com/2020/09/11/10-poland-bas...</td>\n",
              "      <td>Poland is becoming an important European tech ...</td>\n",
              "      <td>poland based investors discuss trends  oppor...</td>\n",
              "      <td>2020-09-11 00:00:00</td>\n",
              "      <td>['discuss', 'investment', 'ahead', 'portfolio'...</td>\n",
              "      <td>Meanwhile, the startup ecosystem has, in recen...</td>\n",
              "      <td>10 Poland-based investors discuss trends, oppo...</td>\n",
              "    </tr>\n",
              "  </tbody>\n",
              "</table>\n",
              "</div>"
            ],
            "text/plain": [
              "        id  ...                                      title_summary\n",
              "1        1  ...  Facebook addresses political controversy in In...\n",
              "75      75  ...  Serum Institute gets approval to resume India ...\n",
              "211    211  ...  Facebook to block new political ads 1 week bef...\n",
              "374    374  ...  Police arrest 64 in Louisville anti-racism pro...\n",
              "619    619  ...  Explore micromobility’s next opportunities at ...\n",
              "629    629  ...  Facebook to block new political ads 1 week bef...\n",
              "737    737  ...  HumanForest gets $2.3M from Cabify founders an...\n",
              "837    837  ...  10 Poland-based investors discuss trends, oppo...\n",
              "901      1  ...  Coronavirus creeps into US mink farms, “unusua...\n",
              "975     75  ...  Timeline: This year’s political fight over the...\n",
              "1111   211  ...  Google Doodle honours Harold Moody, founder of...\n",
              "1274   374  ...  Facebook addresses political controversy in In...\n",
              "1519   619  ...  The pandemic has probably killed VR arcades fo...\n",
              "1529   629  ...  Trump or Biden? China expects no favours eithe...\n",
              "1637   737  ...  Explore micromobility’s next opportunities at ...\n",
              "1737   837  ...  What we know about China's 'dual circulation' ...\n",
              "1809   909  ...  Equities edge higher as political concerns wei...\n",
              "2049  1149  ...  10 Poland-based investors discuss trends, oppo...\n",
              "\n",
              "[18 rows x 9 columns]"
            ]
          },
          "metadata": {},
          "execution_count": 52
        }
      ]
    },
    {
      "cell_type": "markdown",
      "metadata": {
        "id": "cNzD-UDBUuOh"
      },
      "source": [
        "##**Hierarchical Navigable Small Worlds (HNSW)**"
      ],
      "id": "cNzD-UDBUuOh"
    },
    {
      "cell_type": "code",
      "metadata": {
        "colab": {
          "base_uri": "https://localhost:8080/"
        },
        "id": "AsqsuKPb2eVl",
        "outputId": "b8ed9278-4e1b-4e4c-eb6e-d933ed0b0719"
      },
      "source": [
        "!pip install nmslib"
      ],
      "id": "AsqsuKPb2eVl",
      "execution_count": 54,
      "outputs": [
        {
          "output_type": "stream",
          "name": "stdout",
          "text": [
            "Collecting nmslib\n",
            "  Downloading nmslib-2.1.1-cp37-cp37m-manylinux2010_x86_64.whl (13.5 MB)\n",
            "\u001b[K     |████████████████████████████████| 13.5 MB 5.0 MB/s \n",
            "\u001b[?25hRequirement already satisfied: numpy>=1.10.0 in /usr/local/lib/python3.7/dist-packages (from nmslib) (1.19.5)\n",
            "Collecting pybind11<2.6.2\n",
            "  Downloading pybind11-2.6.1-py2.py3-none-any.whl (188 kB)\n",
            "\u001b[K     |████████████████████████████████| 188 kB 50.1 MB/s \n",
            "\u001b[?25hRequirement already satisfied: psutil in /usr/local/lib/python3.7/dist-packages (from nmslib) (5.4.8)\n",
            "Installing collected packages: pybind11, nmslib\n",
            "Successfully installed nmslib-2.1.1 pybind11-2.6.1\n"
          ]
        }
      ]
    },
    {
      "cell_type": "code",
      "metadata": {
        "id": "0fa3ae11-8f92-436e-b117-bc7bfec0de14"
      },
      "source": [
        "import nmslib"
      ],
      "id": "0fa3ae11-8f92-436e-b117-bc7bfec0de14",
      "execution_count": 55,
      "outputs": []
    },
    {
      "cell_type": "code",
      "metadata": {
        "id": "d93e04c6-4ace-4569-8f4c-e0fc9f15bf23"
      },
      "source": [
        "class HNSWIndex():\n",
        "    def __init__(self, vectors, labels):\n",
        "        self.dimention = vectors[0].shape[0]\n",
        "        self.vectors = vectors.astype('float32')\n",
        "        self.labels = labels\n",
        "\n",
        "    def build(self):\n",
        "        self.index = nmslib.init(method='hnsw', space='cosinesimil')\n",
        "        self.index.addDataPointBatch(self.vectors)\n",
        "        self.index.createIndex({'post': 2})\n",
        "        \n",
        "    def query(self, vector, k=10):\n",
        "        indices = self.index.knnQuery(vector, k=k)\n",
        "        return [self.labels[i] for i in indices[0]]"
      ],
      "id": "d93e04c6-4ace-4569-8f4c-e0fc9f15bf23",
      "execution_count": 56,
      "outputs": []
    },
    {
      "cell_type": "code",
      "metadata": {
        "id": "a2e8248d-d48d-4a68-8206-c4ec0cc88c2f",
        "colab": {
          "base_uri": "https://localhost:8080/"
        },
        "outputId": "62678ebf-ed3d-411f-9b27-d808a1025a69"
      },
      "source": [
        "%%time\n",
        "hnsw_index = HNSWIndex(vector, dataset['id'])\n",
        "hnsw_index.build()"
      ],
      "id": "a2e8248d-d48d-4a68-8206-c4ec0cc88c2f",
      "execution_count": 57,
      "outputs": [
        {
          "output_type": "stream",
          "name": "stdout",
          "text": [
            "CPU times: user 3min 58s, sys: 631 ms, total: 3min 58s\n",
            "Wall time: 2min 5s\n"
          ]
        }
      ]
    },
    {
      "cell_type": "code",
      "metadata": {
        "id": "feeb2245-60aa-4ea6-b658-a9351e6469c8",
        "colab": {
          "base_uri": "https://localhost:8080/",
          "height": 1000
        },
        "outputId": "e6d10c53-d469-428f-e117-6a56248043f5"
      },
      "source": [
        "query_index = 1\n",
        "print(f\"The most simillar to item {dataset['id'][query_index]} are:\")\n",
        "items_list = hnsw_index.query(vector[query_index])\n",
        "dataset.loc[dataset['id'].isin(items_list)]"
      ],
      "id": "feeb2245-60aa-4ea6-b658-a9351e6469c8",
      "execution_count": 58,
      "outputs": [
        {
          "output_type": "stream",
          "name": "stdout",
          "text": [
            "The most simillar to item 1 are:\n"
          ]
        },
        {
          "output_type": "execute_result",
          "data": {
            "text/html": [
              "<div>\n",
              "<style scoped>\n",
              "    .dataframe tbody tr th:only-of-type {\n",
              "        vertical-align: middle;\n",
              "    }\n",
              "\n",
              "    .dataframe tbody tr th {\n",
              "        vertical-align: top;\n",
              "    }\n",
              "\n",
              "    .dataframe thead th {\n",
              "        text-align: right;\n",
              "    }\n",
              "</style>\n",
              "<table border=\"1\" class=\"dataframe\">\n",
              "  <thead>\n",
              "    <tr style=\"text-align: right;\">\n",
              "      <th></th>\n",
              "      <th>id</th>\n",
              "      <th>Unnamed: 0.1</th>\n",
              "      <th>link</th>\n",
              "      <th>text</th>\n",
              "      <th>title</th>\n",
              "      <th>date</th>\n",
              "      <th>keywords</th>\n",
              "      <th>summary</th>\n",
              "      <th>title_summary</th>\n",
              "    </tr>\n",
              "  </thead>\n",
              "  <tbody>\n",
              "    <tr>\n",
              "      <th>1</th>\n",
              "      <td>1</td>\n",
              "      <td>1</td>\n",
              "      <td>http://techcrunch.com/2020/09/16/facebook-addr...</td>\n",
              "      <td>At the beginning of the previous decade, Faceb...</td>\n",
              "      <td>facebook addresses political controversy  indi...</td>\n",
              "      <td>2020-09-16 00:00:00</td>\n",
              "      <td>['opportunities', 'whatsapp', 'controversy', '...</td>\n",
              "      <td>Politicians in the country today heavily rely ...</td>\n",
              "      <td>Facebook addresses political controversy in In...</td>\n",
              "    </tr>\n",
              "    <tr>\n",
              "      <th>75</th>\n",
              "      <td>75</td>\n",
              "      <td>75</td>\n",
              "      <td>https://www.reuters.com/article/us-health-coro...</td>\n",
              "      <td>FILE PHOTO: A test tube labelled with the Vacc...</td>\n",
              "      <td>serum institute gets approval  resume india tr...</td>\n",
              "      <td>2020-09-16 06:29:19+00:00</td>\n",
              "      <td>['trial', 'covid', 'trials', 'respond', 'resum...</td>\n",
              "      <td>REUTERS/Dado Ruvic/Illustration/File PhotoMUMB...</td>\n",
              "      <td>Serum Institute gets approval to resume India ...</td>\n",
              "    </tr>\n",
              "    <tr>\n",
              "      <th>211</th>\n",
              "      <td>211</td>\n",
              "      <td>211</td>\n",
              "      <td>http://techcrunch.com/2020/09/03/facebook-to-b...</td>\n",
              "      <td>We’re now 61 days away from the U.S. president...</td>\n",
              "      <td>facebook  block new political ads   week  nov ...</td>\n",
              "      <td>2020-09-03 00:00:00</td>\n",
              "      <td>['nov', 'voting', 'information', 'elections', ...</td>\n",
              "      <td>CEO Mark Zuckerberg today announced a series o...</td>\n",
              "      <td>Facebook to block new political ads 1 week bef...</td>\n",
              "    </tr>\n",
              "    <tr>\n",
              "      <th>374</th>\n",
              "      <td>374</td>\n",
              "      <td>374</td>\n",
              "      <td>https://in.reuters.com/article/global-race-pro...</td>\n",
              "      <td>(Reuters) - Police arrested more than 60 peopl...</td>\n",
              "      <td>police arrest    louisville anti racism protests</td>\n",
              "      <td>2020-08-26 07:27:31+00:00</td>\n",
              "      <td>['burst', 'black', 'antiracism', '64', 'protes...</td>\n",
              "      <td>Sixty-four people were charged with obstructio...</td>\n",
              "      <td>Police arrest 64 in Louisville anti-racism pro...</td>\n",
              "    </tr>\n",
              "    <tr>\n",
              "      <th>619</th>\n",
              "      <td>619</td>\n",
              "      <td>619</td>\n",
              "      <td>http://techcrunch.com/2020/09/03/explore-micro...</td>\n",
              "      <td>Micromobility, like many other industries, has...</td>\n",
              "      <td>explore micromobility  next opportunities  tc ...</td>\n",
              "      <td>2020-09-03 00:00:00</td>\n",
              "      <td>['opportunities', 'operators', 'innovation', '...</td>\n",
              "      <td>And despite the over-saturation of companies i...</td>\n",
              "      <td>Explore micromobility’s next opportunities at ...</td>\n",
              "    </tr>\n",
              "    <tr>\n",
              "      <th>629</th>\n",
              "      <td>629</td>\n",
              "      <td>629</td>\n",
              "      <td>http://techcrunch.com/2020/09/03/facebook-to-b...</td>\n",
              "      <td>We’re now 61 days away from the U.S. president...</td>\n",
              "      <td>facebook  block new political ads   week  nov ...</td>\n",
              "      <td>2020-09-03 00:00:00</td>\n",
              "      <td>['nov', 'voting', 'information', 'elections', ...</td>\n",
              "      <td>CEO Mark Zuckerberg today announced a series o...</td>\n",
              "      <td>Facebook to block new political ads 1 week bef...</td>\n",
              "    </tr>\n",
              "    <tr>\n",
              "      <th>737</th>\n",
              "      <td>737</td>\n",
              "      <td>737</td>\n",
              "      <td>http://techcrunch.com/2020/09/07/humanforest-g...</td>\n",
              "      <td>HumanForest, a dockless, shared and ad-support...</td>\n",
              "      <td>humanforest gets    3m  cabify founders  other...</td>\n",
              "      <td>2020-09-07 00:00:00</td>\n",
              "      <td>['grow', 'ride', 'humanforest', 'gets', 'londo...</td>\n",
              "      <td>HumanForest, a dockless, shared and ad-support...</td>\n",
              "      <td>HumanForest gets $2.3M from Cabify founders an...</td>\n",
              "    </tr>\n",
              "    <tr>\n",
              "      <th>837</th>\n",
              "      <td>837</td>\n",
              "      <td>837</td>\n",
              "      <td>http://techcrunch.com/2020/09/11/10-poland-bas...</td>\n",
              "      <td>Poland is becoming an important European tech ...</td>\n",
              "      <td>poland based investors discuss trends  oppor...</td>\n",
              "      <td>2020-09-11 00:00:00</td>\n",
              "      <td>['opportunities', 'investors', 'companies', 't...</td>\n",
              "      <td>Meanwhile, the startup ecosystem has, in recen...</td>\n",
              "      <td>10 Poland-based investors discuss trends, oppo...</td>\n",
              "    </tr>\n",
              "    <tr>\n",
              "      <th>901</th>\n",
              "      <td>1</td>\n",
              "      <td>1</td>\n",
              "      <td>https://arstechnica.com/science/2020/08/corona...</td>\n",
              "      <td>The pandemic coronavirus has made its way onto...</td>\n",
              "      <td>coronavirus creeps  us mink farms   unusually ...</td>\n",
              "      <td>NaN</td>\n",
              "      <td>['creeps', 'numbers', 'cases', 'reported', 'to...</td>\n",
              "      <td>The pandemic coronavirus has made its way onto...</td>\n",
              "      <td>Coronavirus creeps into US mink farms, “unusua...</td>\n",
              "    </tr>\n",
              "    <tr>\n",
              "      <th>975</th>\n",
              "      <td>75</td>\n",
              "      <td>75</td>\n",
              "      <td>https://abcnews.go.com/Politics/timeline-years...</td>\n",
              "      <td>Timeline: This year’s political fight over the...</td>\n",
              "      <td>timeline  this year  political fight   postal ...</td>\n",
              "      <td>NaN</td>\n",
              "      <td>['mail', 'trump', 'voting', 'ballots', 'voters...</td>\n",
              "      <td>Timeline: This year’s political fight over the...</td>\n",
              "      <td>Timeline: This year’s political fight over the...</td>\n",
              "    </tr>\n",
              "    <tr>\n",
              "      <th>1111</th>\n",
              "      <td>211</td>\n",
              "      <td>211</td>\n",
              "      <td>https://mashable.com/article/harold-moody-goog...</td>\n",
              "      <td>Tuesday's Google Doodle pays tribute to racial...</td>\n",
              "      <td>google doodle honours harold moody  founder   ...</td>\n",
              "      <td>2020-09-01 10:30:30+00:00</td>\n",
              "      <td>['movement', 'medical', 'rights', 'honours', '...</td>\n",
              "      <td>Tuesday's Google Doodle pays tribute to racial...</td>\n",
              "      <td>Google Doodle honours Harold Moody, founder of...</td>\n",
              "    </tr>\n",
              "    <tr>\n",
              "      <th>1274</th>\n",
              "      <td>374</td>\n",
              "      <td>374</td>\n",
              "      <td>http://techcrunch.com/2020/09/16/facebook-addr...</td>\n",
              "      <td>At the beginning of the previous decade, Faceb...</td>\n",
              "      <td>facebook addresses political controversy  indi...</td>\n",
              "      <td>2020-09-16 00:00:00</td>\n",
              "      <td>['facebook', 'users', 'startups', 'role', 'inv...</td>\n",
              "      <td>Politicians in the country today heavily rely ...</td>\n",
              "      <td>Facebook addresses political controversy in In...</td>\n",
              "    </tr>\n",
              "    <tr>\n",
              "      <th>1519</th>\n",
              "      <td>619</td>\n",
              "      <td>619</td>\n",
              "      <td>http://techcrunch.com/2020/08/25/the-pandemic-...</td>\n",
              "      <td>A lagging trend of the past few months has bee...</td>\n",
              "      <td>the pandemic  probably killed vr arcades  good...</td>\n",
              "      <td>2020-08-25 00:00:00</td>\n",
              "      <td>['good', 'startups', 'vr', 'pandemic', 'entert...</td>\n",
              "      <td>Not all spaces have been quite so lucky; in pa...</td>\n",
              "      <td>The pandemic has probably killed VR arcades fo...</td>\n",
              "    </tr>\n",
              "    <tr>\n",
              "      <th>1529</th>\n",
              "      <td>629</td>\n",
              "      <td>629</td>\n",
              "      <td>https://www.bbc.co.uk/news/business-53928783</td>\n",
              "      <td>Image copyright Getty Images\\n\\nThe Democratic...</td>\n",
              "      <td>trump  biden  china expects  favours either way</td>\n",
              "      <td>NaN</td>\n",
              "      <td>['president', 'trump', 'administration', 'reas...</td>\n",
              "      <td>Several insiders at Chinese technology firms s...</td>\n",
              "      <td>Trump or Biden? China expects no favours eithe...</td>\n",
              "    </tr>\n",
              "    <tr>\n",
              "      <th>1637</th>\n",
              "      <td>737</td>\n",
              "      <td>737</td>\n",
              "      <td>http://techcrunch.com/2020/09/03/explore-micro...</td>\n",
              "      <td>Micromobility, like many other industries, has...</td>\n",
              "      <td>explore micromobility  next opportunities  tc ...</td>\n",
              "      <td>2020-09-03 00:00:00</td>\n",
              "      <td>['sessions', 'cities', 'van', 'electric', 'tor...</td>\n",
              "      <td>And despite the over-saturation of companies i...</td>\n",
              "      <td>Explore micromobility’s next opportunities at ...</td>\n",
              "    </tr>\n",
              "    <tr>\n",
              "      <th>1737</th>\n",
              "      <td>837</td>\n",
              "      <td>837</td>\n",
              "      <td>https://www.reuters.com/article/us-china-econo...</td>\n",
              "      <td>BEIJING (Reuters) - China has unveiled a “dual...</td>\n",
              "      <td>what  know  china   dual circulation  economic...</td>\n",
              "      <td>2020-09-15 21:05:34+00:00</td>\n",
              "      <td>['chinas', 'circulation', 'foreign', 'economic...</td>\n",
              "      <td>BEIJING (Reuters) - China has unveiled a “dual...</td>\n",
              "      <td>What we know about China's 'dual circulation' ...</td>\n",
              "    </tr>\n",
              "    <tr>\n",
              "      <th>1809</th>\n",
              "      <td>909</td>\n",
              "      <td>909</td>\n",
              "      <td>https://www.reuters.com/article/us-global-mark...</td>\n",
              "      <td>NEW YORK (Reuters) - Global equities treaded w...</td>\n",
              "      <td>equities edge higher  political concerns weigh...</td>\n",
              "      <td>2020-09-10 23:54:51+00:00</td>\n",
              "      <td>['week', 'edge', 'europe', 'worlds', 'politica...</td>\n",
              "      <td>NEW YORK (Reuters) - Global equities treaded w...</td>\n",
              "      <td>Equities edge higher as political concerns wei...</td>\n",
              "    </tr>\n",
              "    <tr>\n",
              "      <th>2049</th>\n",
              "      <td>1149</td>\n",
              "      <td>1149</td>\n",
              "      <td>http://techcrunch.com/2020/09/11/10-poland-bas...</td>\n",
              "      <td>Poland is becoming an important European tech ...</td>\n",
              "      <td>poland based investors discuss trends  oppor...</td>\n",
              "      <td>2020-09-11 00:00:00</td>\n",
              "      <td>['discuss', 'investment', 'ahead', 'portfolio'...</td>\n",
              "      <td>Meanwhile, the startup ecosystem has, in recen...</td>\n",
              "      <td>10 Poland-based investors discuss trends, oppo...</td>\n",
              "    </tr>\n",
              "  </tbody>\n",
              "</table>\n",
              "</div>"
            ],
            "text/plain": [
              "        id  ...                                      title_summary\n",
              "1        1  ...  Facebook addresses political controversy in In...\n",
              "75      75  ...  Serum Institute gets approval to resume India ...\n",
              "211    211  ...  Facebook to block new political ads 1 week bef...\n",
              "374    374  ...  Police arrest 64 in Louisville anti-racism pro...\n",
              "619    619  ...  Explore micromobility’s next opportunities at ...\n",
              "629    629  ...  Facebook to block new political ads 1 week bef...\n",
              "737    737  ...  HumanForest gets $2.3M from Cabify founders an...\n",
              "837    837  ...  10 Poland-based investors discuss trends, oppo...\n",
              "901      1  ...  Coronavirus creeps into US mink farms, “unusua...\n",
              "975     75  ...  Timeline: This year’s political fight over the...\n",
              "1111   211  ...  Google Doodle honours Harold Moody, founder of...\n",
              "1274   374  ...  Facebook addresses political controversy in In...\n",
              "1519   619  ...  The pandemic has probably killed VR arcades fo...\n",
              "1529   629  ...  Trump or Biden? China expects no favours eithe...\n",
              "1637   737  ...  Explore micromobility’s next opportunities at ...\n",
              "1737   837  ...  What we know about China's 'dual circulation' ...\n",
              "1809   909  ...  Equities edge higher as political concerns wei...\n",
              "2049  1149  ...  10 Poland-based investors discuss trends, oppo...\n",
              "\n",
              "[18 rows x 9 columns]"
            ]
          },
          "metadata": {},
          "execution_count": 58
        }
      ]
    },
    {
      "cell_type": "markdown",
      "metadata": {
        "id": "HfOs8oNKU5Pl"
      },
      "source": [
        "#**Summary**"
      ],
      "id": "HfOs8oNKU5Pl"
    },
    {
      "cell_type": "markdown",
      "metadata": {
        "id": "mneJDMit3TnD"
      },
      "source": [
        "For this dataset the fastest proven technique was Exhaustive Search and the slowest was Product Quantization\n",
        "\n"
      ],
      "id": "mneJDMit3TnD"
    },
    {
      "cell_type": "markdown",
      "metadata": {
        "id": "AqasnUz46mYr"
      },
      "source": [
        "\n",
        "\n",
        "**References**: \n",
        "\n",
        "https://towardsdatascience.com/comprehensive-guide-to-approximate-nearest-neighbors-algorithms-8b94f057d6b6\n",
        "\n",
        "\n",
        "https://github.com/eyaltrabelsi/my-notebooks/tree/master/Lectures/search_in_practice-approximate_nearest_neighbors"
      ],
      "id": "AqasnUz46mYr"
    }
  ]
}